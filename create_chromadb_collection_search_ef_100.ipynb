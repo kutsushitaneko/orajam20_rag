{
 "cells": [
  {
   "cell_type": "code",
   "execution_count": null,
   "metadata": {},
   "outputs": [],
   "source": [
    "# パッケージのインストール\n",
    "%pip install -q langchain\n",
    "%pip install -q langchain-openai\n",
    "%pip install -q langchain-chroma\n",
    "%pip install -q langchain-community\n",
    "%pip install -q python-dotenv\n",
    "%pip install -q pdfminer.six\n",
    "%pip install -q chromadb\n",
    "%pip install -q ipywidgets\n",
    "%pip install -q Jinja2\n",
    "%pip install -q pandas\n",
    "%pip install -q ragas datasets\n",
    "%pip install -q matplotlib\n"
   ]
  },
  {
   "cell_type": "code",
   "execution_count": 1,
   "metadata": {},
   "outputs": [],
   "source": [
    "from dotenv import load_dotenv, find_dotenv\n",
    "\n",
    "_ = load_dotenv(find_dotenv())"
   ]
  },
  {
   "cell_type": "code",
   "execution_count": 6,
   "metadata": {},
   "outputs": [],
   "source": [
    "chunk_size = 200\n",
    "collection_name = f\"mycollection_{chunk_size}_ef_100\"\n",
    "embedding_model = \"text-embedding-3-large\"\n",
    "\n",
    "top_k = 10\n",
    "batch_size = 500\n",
    "\n",
    "query=\"高町なのはがユーノから譲り受けたものは何ですか？\""
   ]
  },
  {
   "cell_type": "markdown",
   "metadata": {},
   "source": [
    "### 埋め込みモデルの準備"
   ]
  },
  {
   "cell_type": "code",
   "execution_count": 7,
   "metadata": {},
   "outputs": [],
   "source": [
    "from langchain_openai import OpenAIEmbeddings\n",
    "\n",
    "# 埋め込みモデルの準備\n",
    "embeddings = OpenAIEmbeddings(model=embedding_model)"
   ]
  },
  {
   "cell_type": "markdown",
   "metadata": {},
   "source": [
    "### ドキュメントの読み込みとチャンキング"
   ]
  },
  {
   "cell_type": "code",
   "execution_count": 8,
   "metadata": {},
   "outputs": [],
   "source": [
    "from langchain_community.document_loaders import PDFMinerLoader, DirectoryLoader\n",
    "from langchain_text_splitters import RecursiveCharacterTextSplitter\n",
    "\n",
    "# ドキュメントの読み込み\n",
    "loader = DirectoryLoader(\n",
    "    \"./data/\",\n",
    "    glob=\"**/*.pdf\",  # PDFファイルを対象に\n",
    "    show_progress=True,\n",
    "    loader_cls=PDFMinerLoader  # PDFMinerLoaderを使用\n",
    ")"
   ]
  },
  {
   "cell_type": "code",
   "execution_count": null,
   "metadata": {},
   "outputs": [],
   "source": [
    "import unicodedata\n",
    "\n",
    "# ドキュメントの分割\n",
    "documents = []\n",
    "for doc in loader.load():\n",
    "    # すべての改行を削除（単語の途中でチャンキングされることを防ぐため）\n",
    "    doc.page_content = unicodedata.normalize('NFKC', doc.page_content.replace(\"\\n\", \"\"))\n",
    "    chunks = RecursiveCharacterTextSplitter(\n",
    "        chunk_size=chunk_size,\n",
    "        chunk_overlap=chunk_size // 10,\n",
    "        separators=[\n",
    "            \"。\",\n",
    "            \"、\",\n",
    "            \" \",\n",
    "            \"」\",\n",
    "            \"）\",\n",
    "            \"｝\",\n",
    "            \"〕\",\n",
    "            \"》\"\n",
    "        ],\n",
    "        keep_separator=\"end\"\n",
    "    ).split_documents([doc])\n",
    "    documents.extend(chunks)\n",
    "\n",
    "print(f\"合計チャンク数: {len(documents)}\")"
   ]
  },
  {
   "cell_type": "code",
   "execution_count": null,
   "metadata": {},
   "outputs": [],
   "source": [
    "for i, doc in enumerate(documents[:5]):\n",
    "    print(f\"\\n=== Document {i+1} ===\")\n",
    "    print(f\"Content: {doc.page_content}\")\n",
    "    print(f\"文字数: {len(doc.page_content)}\")\n",
    "    print(f\"Source: {doc.metadata['source']}\")"
   ]
  },
  {
   "cell_type": "markdown",
   "metadata": {},
   "source": [
    "### VectorStoreの準備"
   ]
  },
  {
   "cell_type": "code",
   "execution_count": null,
   "metadata": {},
   "outputs": [],
   "source": [
    "import chromadb\n",
    "from langchain_chroma import Chroma\n",
    "\n",
    "\n",
    "# Chromaクライアントを初期化\n",
    "try:\n",
    "    persistent_client = chromadb.PersistentClient(path=\"./chroma_db\")\n",
    "    # 既存のChromaコレクションを削除\n",
    "    try:\n",
    "        persistent_client.delete_collection(collection_name)\n",
    "        print(f\"既存のコレクション '{collection_name}' を削除しました\")\n",
    "    except ValueError as e:\n",
    "        print(f\"既存のコレクション '{collection_name}' は存在しませんでした\")\n",
    "    except Exception as e:\n",
    "        print(f\"コレクションの削除中にエラーが発生しました: {str(e)}\")\n",
    "\n",
    "    vector_store = Chroma(\n",
    "        client=persistent_client,\n",
    "        collection_name=collection_name,\n",
    "        embedding_function=embeddings,\n",
    "        collection_metadata={\"hnsw:space\": \"ip\", \"hnsw:search_ef\": 100} \n",
    "    )\n",
    "    print(f\"コレクション '{collection_name}' を作成しました\")\n",
    "\n",
    "    collections = persistent_client.list_collections()\n",
    "    print(\"現在のコレクション一覧:\")\n",
    "    for collection in collections:\n",
    "        print(f\"- {collection.name}\")\n",
    "\n",
    "    # ドキュメントをバッチで追加\n",
    "    print(f\"コレクション '{collection_name}' にデータをロードします\")\n",
    "    total_added = 0\n",
    "    for i in range(0, len(documents), batch_size):\n",
    "        batch = documents[i:i + batch_size]\n",
    "        vector_store.add_documents(documents=batch, embedding=embeddings)\n",
    "        total_added += len(batch)\n",
    "        print(f\"バッチ {i//batch_size + 1} を追加しました（{len(batch)}件）\")\n",
    "    \n",
    "    print(f\"\\n合計 {total_added} 件のドキュメントを追加しました\")\n",
    "\n",
    "except Exception as e:\n",
    "    print(f\"Chromaデータベースの操作中にエラーが発生しました: {str(e)}\")\n"
   ]
  },
  {
   "cell_type": "markdown",
   "metadata": {},
   "source": [
    "### ベクトル検索のテスト"
   ]
  },
  {
   "cell_type": "code",
   "execution_count": 12,
   "metadata": {},
   "outputs": [],
   "source": [
    "result = vector_store.similarity_search(query, k=top_k)"
   ]
  },
  {
   "cell_type": "code",
   "execution_count": null,
   "metadata": {},
   "outputs": [],
   "source": [
    "for i, doc in enumerate(result[:top_k]):\n",
    "    print(f\"\\n=== 検索結果 {i+1} ===\")\n",
    "    print(f\"Content: {doc.page_content}\")\n",
    "    print(f\"文字数: {len(doc.page_content)}\")\n",
    "    print(f\"Source: {doc.metadata['source']}\")"
   ]
  },
  {
   "cell_type": "code",
   "execution_count": null,
   "metadata": {},
   "outputs": [],
   "source": []
  }
 ],
 "metadata": {
  "kernelspec": {
   "display_name": ".venv",
   "language": "python",
   "name": "python3"
  },
  "language_info": {
   "codemirror_mode": {
    "name": "ipython",
    "version": 3
   },
   "file_extension": ".py",
   "mimetype": "text/x-python",
   "name": "python",
   "nbconvert_exporter": "python",
   "pygments_lexer": "ipython3",
   "version": "3.12.1"
  }
 },
 "nbformat": 4,
 "nbformat_minor": 2
}
