{
 "cells": [
  {
   "cell_type": "code",
   "execution_count": null,
   "metadata": {},
   "outputs": [],
   "source": [
    "# パッケージのインストール\n",
    "%pip install -q langchain\n",
    "%pip install -q langchain-openai\n",
    "%pip install -q langchain-chroma\n",
    "%pip install -q langchain-community\n",
    "%pip install -q python-dotenv\n",
    "%pip install -q pdfminer.six\n",
    "%pip install -q chromadb\n",
    "%pip install -q ipywidgets\n",
    "%pip install -q Jinja2\n",
    "%pip install -q pandas\n",
    "%pip install -q ragas datasets\n",
    "%pip install -q matplotlib\n"
   ]
  },
  {
   "cell_type": "code",
   "execution_count": 1,
   "metadata": {},
   "outputs": [],
   "source": [
    "from dotenv import load_dotenv, find_dotenv\n",
    "\n",
    "_ = load_dotenv(find_dotenv())"
   ]
  },
  {
   "cell_type": "code",
   "execution_count": 6,
   "metadata": {},
   "outputs": [],
   "source": [
    "chunk_size = 200\n",
    "collection_name = f\"mycollection_{chunk_size}_ef_100\"\n",
    "embedding_model = \"text-embedding-3-large\"\n",
    "\n",
    "top_k = 10\n",
    "batch_size = 500\n",
    "\n",
    "query=\"高町なのはがユーノから譲り受けたものは何ですか？\""
   ]
  },
  {
   "cell_type": "markdown",
   "metadata": {},
   "source": [
    "### 埋め込みモデルの準備"
   ]
  },
  {
   "cell_type": "code",
   "execution_count": 7,
   "metadata": {},
   "outputs": [],
   "source": [
    "from langchain_openai import OpenAIEmbeddings\n",
    "\n",
    "# 埋め込みモデルの準備\n",
    "embeddings = OpenAIEmbeddings(model=embedding_model)"
   ]
  },
  {
   "cell_type": "markdown",
   "metadata": {},
   "source": [
    "### ドキュメントの読み込みとチャンキング"
   ]
  },
  {
   "cell_type": "code",
   "execution_count": 8,
   "metadata": {},
   "outputs": [],
   "source": [
    "from langchain_community.document_loaders import PDFMinerLoader, DirectoryLoader\n",
    "from langchain_text_splitters import RecursiveCharacterTextSplitter\n",
    "\n",
    "# ドキュメントの読み込み\n",
    "loader = DirectoryLoader(\n",
    "    \"./data/\",\n",
    "    glob=\"**/*.pdf\",  # PDFファイルを対象に\n",
    "    show_progress=True,\n",
    "    loader_cls=PDFMinerLoader  # PDFMinerLoaderを使用\n",
    ")"
   ]
  },
  {
   "cell_type": "code",
   "execution_count": 9,
   "metadata": {},
   "outputs": [
    {
     "name": "stderr",
     "output_type": "stream",
     "text": [
      "100%|██████████| 19/19 [00:46<00:00,  2.46s/it]"
     ]
    },
    {
     "name": "stdout",
     "output_type": "stream",
     "text": [
      "合計チャンク数: 3378\n"
     ]
    },
    {
     "name": "stderr",
     "output_type": "stream",
     "text": [
      "\n"
     ]
    }
   ],
   "source": [
    "# ドキュメントの分割\n",
    "documents = []\n",
    "for doc in loader.load():\n",
    "    # すべての改行を削除（単語の途中でチャンキングされることを防ぐため）\n",
    "    doc.page_content = doc.page_content.replace(\"\\n\", \"\")\n",
    "    chunks = RecursiveCharacterTextSplitter(\n",
    "        chunk_size=chunk_size,\n",
    "        chunk_overlap=chunk_size // 10,\n",
    "        separators=[\n",
    "            \"。\",\n",
    "            \"、\",\n",
    "            \" \",\n",
    "            \"」\",\n",
    "            \"）\",\n",
    "            \"｝\",\n",
    "            \"〕\",\n",
    "            \"》\"\n",
    "        ],\n",
    "        keep_separator=\"end\"\n",
    "    ).split_documents([doc])\n",
    "    documents.extend(chunks)\n",
    "\n",
    "print(f\"合計チャンク数: {len(documents)}\")"
   ]
  },
  {
   "cell_type": "code",
   "execution_count": 10,
   "metadata": {},
   "outputs": [
    {
     "name": "stdout",
     "output_type": "stream",
     "text": [
      "\n",
      "=== Document 1 ===\n",
      "Content: ハリー‧ポッター (架空の⼈物)出典: フリー百科事典『ウィキペディア（Wikipedia）』ハリー‧ポッターシリーズ > ハリー‧ポッターシリーズの登場⼈物⼀覧 > ハリー‧ポッター (架空の⼈物)ハリー‧ジェームズ‧ポッター（英: Harry JamesPotter）は、J‧K‧ローリングの⼩説『ハリー‧ポッター』シリーズおよび、その派⽣作品に登場する架空の⼈物であり、同シリーズの主⼈公。\n",
      "文字数: 198\n",
      "Source: data\\Wikipedia-ハリー・ポッター_(架空の人物).pdf\n",
      "\n",
      "=== Document 2 ===\n",
      "Content: ホグワーツ魔法魔術学校グリフィンドール寮の男⼦⽣徒となる。孤児として⺟親の親類の伯⺟夫婦の家で不遇な暮らしをして育った。11歳を迎える年のある⽇突然、ホグワーツから⼊学許可証が届いたのをきっかけに、亡くなった両親が魔法使いであったこと、そして出⽣時に下された予⾔により、闇の魔法使いヴォルデモートを倒す宿命を⾃分が負っていると告げられる。\n",
      "文字数: 169\n",
      "Source: data\\Wikipedia-ハリー・ポッター_(架空の人物).pdf\n",
      "\n",
      "=== Document 3 ===\n",
      "Content: マグル界では⼀介の少年に過ぎない⽣活を送っていたが、魔法界では本⼈が⼾惑うほど重要な⼈物として、あまねく⼈々から知られている。⼀⼈前の魔法使いになるべく、同級⽣のロン‧ウィーズリーやハーマイオニー‧グレンジャーらとともに、ホグワーツにて学⽣⽣活を送りつつ、宿敵のヴォルデモートなどの闇の魔法使いたちによる数々の陰謀に⽴ち向かう冒険の⽇々を通して、たくましく成⻑していく姿が物語で描かれている。\n",
      "文字数: 196\n",
      "Source: data\\Wikipedia-ハリー・ポッター_(架空の人物).pdf\n",
      "\n",
      "=== Document 4 ===\n",
      "Content: ⼈物名前‧外⾒魔 法 界 で は 「 ⽣ き 残 っ た 男 の ⼦   (The  boy  wholived) 」と呼ばれる。髪の⽑は黒い癖⽑で、瞳は明るい緑⾊。⼩顔で細⾯で、近視のため丸眼鏡を着⽤。同年代に⽐べ⼩柄で痩せているが、第6巻『謎のプリンス』では前巻と⽐べて⾝⻑がかなり伸びたとされている。\n",
      "文字数: 153\n",
      "Source: data\\Wikipedia-ハリー・ポッター_(架空の人物).pdf\n",
      "\n",
      "=== Document 5 ===\n",
      "Content: 額にはヴォルデモートの強⼒な呪いによってつけハリー‧ポッターHarry Potter『ハリー‧ポッター』シリーズのキャラクターハリー‧ポッターを演じるダニエル‧ラドクリフ（2009年、\n",
      "文字数: 92\n",
      "Source: data\\Wikipedia-ハリー・ポッター_(架空の人物).pdf\n"
     ]
    }
   ],
   "source": [
    "for i, doc in enumerate(documents[:5]):\n",
    "    print(f\"\\n=== Document {i+1} ===\")\n",
    "    print(f\"Content: {doc.page_content}\")\n",
    "    print(f\"文字数: {len(doc.page_content)}\")\n",
    "    print(f\"Source: {doc.metadata['source']}\")"
   ]
  },
  {
   "cell_type": "markdown",
   "metadata": {},
   "source": [
    "### VectorStoreの準備"
   ]
  },
  {
   "cell_type": "code",
   "execution_count": 11,
   "metadata": {},
   "outputs": [
    {
     "name": "stdout",
     "output_type": "stream",
     "text": [
      "既存のコレクション 'mycollection_200_ef_100' は存在しませんでした\n",
      "コレクション 'mycollection_200_ef_100' を作成しました\n",
      "現在のコレクション一覧:\n",
      "- mycollection_200_ef_100\n",
      "- mycollection_1000\n",
      "- mycollection_200\n",
      "- mycollection_500\n",
      "コレクション 'mycollection_200_ef_100' にデータをロードします\n",
      "バッチ 1 を追加しました（500件）\n",
      "バッチ 2 を追加しました（500件）\n",
      "バッチ 3 を追加しました（500件）\n",
      "バッチ 4 を追加しました（500件）\n",
      "バッチ 5 を追加しました（500件）\n",
      "バッチ 6 を追加しました（500件）\n",
      "バッチ 7 を追加しました（378件）\n",
      "\n",
      "合計 3378 件のドキュメントを追加しました\n"
     ]
    }
   ],
   "source": [
    "import chromadb\n",
    "from langchain_chroma import Chroma\n",
    "\n",
    "\n",
    "# Chromaクライアントを初期化\n",
    "try:\n",
    "    persistent_client = chromadb.PersistentClient(path=\"./chroma_db\")\n",
    "    # 既存のChromaコレクションを削除\n",
    "    try:\n",
    "        persistent_client.delete_collection(collection_name)\n",
    "        print(f\"既存のコレクション '{collection_name}' を削除しました\")\n",
    "    except ValueError as e:\n",
    "        print(f\"既存のコレクション '{collection_name}' は存在しませんでした\")\n",
    "    except Exception as e:\n",
    "        print(f\"コレクションの削除中にエラーが発生しました: {str(e)}\")\n",
    "\n",
    "    vector_store = Chroma(\n",
    "        client=persistent_client,\n",
    "        collection_name=collection_name,\n",
    "        embedding_function=embeddings,\n",
    "        collection_metadata={\"hnsw:space\": \"ip\", \"hnsw:search_ef\": 100} \n",
    "    )\n",
    "    print(f\"コレクション '{collection_name}' を作成しました\")\n",
    "\n",
    "    collections = persistent_client.list_collections()\n",
    "    print(\"現在のコレクション一覧:\")\n",
    "    for collection in collections:\n",
    "        print(f\"- {collection.name}\")\n",
    "\n",
    "    # ドキュメントをバッチで追加\n",
    "    print(f\"コレクション '{collection_name}' にデータをロードします\")\n",
    "    total_added = 0\n",
    "    for i in range(0, len(documents), batch_size):\n",
    "        batch = documents[i:i + batch_size]\n",
    "        vector_store.add_documents(documents=batch, embedding=embeddings)\n",
    "        total_added += len(batch)\n",
    "        print(f\"バッチ {i//batch_size + 1} を追加しました（{len(batch)}件）\")\n",
    "    \n",
    "    print(f\"\\n合計 {total_added} 件のドキュメントを追加しました\")\n",
    "\n",
    "except Exception as e:\n",
    "    print(f\"Chromaデータベースの操作中にエラーが発生しました: {str(e)}\")\n"
   ]
  },
  {
   "cell_type": "markdown",
   "metadata": {},
   "source": [
    "### ベクトル検索のテスト"
   ]
  },
  {
   "cell_type": "code",
   "execution_count": 12,
   "metadata": {},
   "outputs": [],
   "source": [
    "result = vector_store.similarity_search(query, k=top_k)"
   ]
  },
  {
   "cell_type": "code",
   "execution_count": 13,
   "metadata": {},
   "outputs": [
    {
     "name": "stdout",
     "output_type": "stream",
     "text": [
      "\n",
      "=== 検索結果 1 ===\n",
      "Content: 新たなリーダーとなったひめなは静⾹に⼿を組むことを持ちかけるが拒否される。ひめなの指⽰のもと、⽻根の神楽燦と遊狩ミユリがちはるの腕を切り落とし、⽯を強奪する。那由他は伯⽗である灯花の⽗に⼿はずを整えてもらい、同じく⽗の⾏⽅を探っている離婚した⺟と再会。⽗に関する調査資料を⼊⼿し、「湯国市」に⼿がかりがあるとわかって⾏動しようとする。\n",
      "文字数: 167\n",
      "Source: data\\Wikipedia-マギアレコード_魔法少女まどか☆マギカ外伝.pdf\n",
      "\n",
      "=== 検索結果 2 ===\n",
      "Content: 東京都在住。44歳。表の職業は国防軍を得意先とする⼟⽊建設会社のオーナーである。七草家と共に伊⾖を含む関東地⽅を監視‧守護している。⼗⽂字家は有事の実戦闘要員としての性質が強い。\f三年前から⼗⽂字家固有の魔法⼒低下の病に罹っており、2097年2⽉の師族会議の三ヶ⽉前に魔法技能を失っている。会議の冒頭で克⼈に当主の座を継承させることを申し出て、満場⼀致で承認される。\n",
      "文字数: 183\n",
      "Source: data\\Wikipedia-魔法科高校の劣等生.pdf\n",
      "\n",
      "=== 検索結果 3 ===\n",
      "Content: 彼がこの世界に来た理由。それは彼が発掘したロストロギア（異世界に存在した⾼度な魔法技術の遺産）「ジュエルシード」が散らばってしまったためであった。成り⾏きから事情を知ったなのはは、ユーノと共にジュエルシードを集め、封印する⼿伝いをすることになる。そして次第になのははユーノだけではなく、⾃分のために魔法の世界に関わっていく決意を固め、その秘めた⼒を開花させていく。\n",
      "文字数: 182\n",
      "Source: data\\Wikipedia-魔法少女リリカルなのは.pdf\n",
      "\n",
      "=== 検索結果 4 ===\n",
      "Content: 敵対していたフェイトやヴィータなどの⼈物とも、幾度となく互いの信念をかけた戦いを繰り返した結果、最終的には分かり合うことが出来ており、彼⼥達と良き友となっている。使⽤デバイス（魔法の杖）はインテリジェントデバイス「レイジングハート」。ユーノから譲り受けたものだが、彼がこのデバイスを⼿に⼊れた経緯は不明。\n",
      "文字数: 152\n",
      "Source: data\\Wikipedia-高町なのは.pdf\n",
      "\n",
      "=== 検索結果 5 ===\n",
      "Content: なのはと同い年の、異世界出⾝の魔法少⼥。ある⽬的から海鳴市周辺に散らばったロストロギア‧ジュエルシードの回収を重ねる。その中で、敵としてなのはやユーノ、クロノと出会う。ユーノ‧スクライアなのはと同い年の、異世界出⾝の少年。遺跡発掘を⽣業とする⼀族の出⾝で、もともとジュエルシードは彼が発掘したもの。事故が原因で散らばったジュエルシードを回収しようとやってきた。\n",
      "文字数: 180\n",
      "Source: data\\Wikipedia-魔法少女リリカルなのは.pdf\n",
      "\n",
      "=== 検索結果 6 ===\n",
      "Content: ユーノとの関係は以前と変わらずフェイト達いわく「どちらも仕事が好きだから」あまり進展はない。誰に対しても優しく接し、⾃分に対しては謙虚なところは変わらないが無茶なことをしては周囲（主にフェイトやシャマルなど）を困らせる所も変わらない。\n",
      "文字数: 117\n",
      "Source: data\\Wikipedia-高町なのは.pdf\n",
      "\n",
      "=== 検索結果 7 ===\n",
      "Content: 神浜市内の⼀般⼈は魔法の⼒によってネオマギウスに従わない限り飲⾷ができない状況となり、⽣殺与奪の権利を握られることになる。那由他はフォークロアの4⼈、そして太助と湯国市に赴き、以前訪れた時⼥⼀族同様魔法少⼥への迫害に遭う。⽗からは魔法少⼥の存在を広めることは宇宙の意思に反する⾏為であり、絶望を⽣むだけだと説明されるも魔法少⼥の幸福を求める那由他は納得しなかった。\n",
      "文字数: 182\n",
      "Source: data\\Wikipedia-マギアレコード_魔法少女まどか☆マギカ外伝.pdf\n",
      "\n",
      "=== 検索結果 8 ===\n",
      "Content: 四⼈兄妹の次男に当たる。吉⽥家の家督の相続は以前は優れた技量を⽰したものに受け継がれるが、そのせいで儀式が⾎なまぐさいものになったため基本的に⻑男が家督を継ぐことになった。⼀⽅で、弟や従兄弟が⻑男より優れた技量を⽰し続けた場合は家督を譲るのが⻑男の徳という不⽂律が存在する。これにより⻑男より優れた技量を⽰し続けた幸⽐古が当主の座に着く。\n",
      "文字数: 169\n",
      "Source: data\\Wikipedia-魔法科高校の劣等生.pdf\n",
      "\n",
      "=== 検索結果 9 ===\n",
      "Content: 第1期におけるなのはとある偶然から傷を負った異世界の少年ユーノを助け、ロストロギア（古代遺産）「ジュエルシード」探索に協⼒すべく魔法少⼥（魔導師）となる。そのジュエルシードの探索中、⾃分と同年代の「寂しげな⽬」をした⼥の⼦‧フェイトと出会い、惹かれながらも幾度となく衝突した。戦いを通じて終盤ではフェイトと分かり合うことに成功し、互いにかけがえのない友達になった。\n",
      "文字数: 182\n",
      "Source: data\\Wikipedia-高町なのは.pdf\n",
      "\n",
      "=== 検索結果 10 ===\n",
      "Content: ⽵内 なずな（たけうち なずな）声 – 渡辺明乃[33]真由美の⺟⽅の遠縁で、七草家の配下の魔法師。元空軍の輸送機パイロットで、現在は真由美のボディガードや七草家の⾃家⽤機のパイロットをしている。劇場版『星を呼ぶ少⼥』に登場。⼀条家⼀条将輝の実家。北陸と東北地⽅⻄半分の地域に強い影響⼒を持ち、その地⽅の魔法師を強いリーダーシップによって掌握している。\n",
      "文字数: 176\n",
      "Source: data\\Wikipedia-魔法科高校の劣等生.pdf\n"
     ]
    },
    {
     "ename": "",
     "evalue": "",
     "output_type": "error",
     "traceback": [
      "\u001b[1;31m現在のセルまたは前のセルでコードを実行中に、カーネル (Kernel) がクラッシュしました。\n",
      "\u001b[1;31mエラーの原因を特定するには、セル内のコードを確認してください。\n",
      "\u001b[1;31m詳細については<a href='https://aka.ms/vscodeJupyterKernelCrash'>こちら</a>をクリックします。\n",
      "\u001b[1;31m詳細については、Jupyter <a href='command:jupyter.viewOutput'>ログ</a> を参照してください。"
     ]
    }
   ],
   "source": [
    "for i, doc in enumerate(result[:top_k]):\n",
    "    print(f\"\\n=== 検索結果 {i+1} ===\")\n",
    "    print(f\"Content: {doc.page_content}\")\n",
    "    print(f\"文字数: {len(doc.page_content)}\")\n",
    "    print(f\"Source: {doc.metadata['source']}\")"
   ]
  },
  {
   "cell_type": "code",
   "execution_count": null,
   "metadata": {},
   "outputs": [],
   "source": []
  }
 ],
 "metadata": {
  "kernelspec": {
   "display_name": ".venv",
   "language": "python",
   "name": "python3"
  },
  "language_info": {
   "codemirror_mode": {
    "name": "ipython",
    "version": 3
   },
   "file_extension": ".py",
   "mimetype": "text/x-python",
   "name": "python",
   "nbconvert_exporter": "python",
   "pygments_lexer": "ipython3",
   "version": "3.12.1"
  }
 },
 "nbformat": 4,
 "nbformat_minor": 2
}
