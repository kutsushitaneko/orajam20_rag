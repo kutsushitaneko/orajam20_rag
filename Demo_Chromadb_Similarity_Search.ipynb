{
 "cells": [
  {
   "cell_type": "markdown",
   "metadata": {},
   "source": [
    "## Chromadb に対する類似性検索のデモ"
   ]
  },
  {
   "cell_type": "markdown",
   "metadata": {},
   "source": [
    "### OpenAI API Key と埋め込みモデルの設定"
   ]
  },
  {
   "cell_type": "code",
   "execution_count": 1,
   "metadata": {},
   "outputs": [],
   "source": [
    "from dotenv import load_dotenv, find_dotenv\n",
    "# 環境変数 OPENAI_API_KEY に OpenAI API Key を設定（.env ファイルの OPENAI_API_KEY からロード）\n",
    "_ = load_dotenv(find_dotenv())\n",
    "embedding_model = \"text-embedding-3-large\" # 埋め込みモデル"
   ]
  },
  {
   "cell_type": "markdown",
   "metadata": {},
   "source": [
    "### 埋め込みモデルの準備"
   ]
  },
  {
   "cell_type": "code",
   "execution_count": 2,
   "metadata": {},
   "outputs": [],
   "source": [
    "from langchain_openai import OpenAIEmbeddings\n",
    "\n",
    "embeddings = OpenAIEmbeddings(model=embedding_model)"
   ]
  },
  {
   "cell_type": "markdown",
   "metadata": {},
   "source": [
    "### 検索対象の ChromaDB コレクション名の設定\n",
    "コレクションとは、ChromaDB におけるベクトルデータの保存単位で、RDB のテーブルのようなもの"
   ]
  },
  {
   "cell_type": "code",
   "execution_count": 3,
   "metadata": {},
   "outputs": [],
   "source": [
    "#collection_name = \"mycollection_100\" # 検索対象のChromadb コレクション名（チャンクサイズ100文字で事前に作成済み）\n",
    "collection_name = \"mycollection_200\" # 検索対象のChromadb コレクション名（チャンクサイズ200文字で事前に作成済み）\n",
    "#collection_name = \"mycollection_500\" # 検索対象のChromadb コレクション名（チャンクサイズ500文字で事前に作成済み）\n",
    "#collection_name = \"mycollection_1000\" # 検索対象のChromadb コレクション名（チャンクサイズ1000文字で事前に作成済み）"
   ]
  },
  {
   "cell_type": "markdown",
   "metadata": {},
   "source": [
    "### VectorStoreの準備"
   ]
  },
  {
   "cell_type": "code",
   "execution_count": 4,
   "metadata": {},
   "outputs": [],
   "source": [
    "import chromadb\n",
    "from langchain_chroma import Chroma\n",
    "\n",
    "# LangChain の Chromadb VectorStore のインスタンスを作成\n",
    "vector_store = Chroma(\n",
    "    client=chromadb.PersistentClient(path=\"./chroma_db\"),\n",
    "    collection_name=collection_name,\n",
    "    embedding_function=embeddings,\n",
    "    collection_metadata={\"hnsw:space\": \"ip\"} \n",
    ")"
   ]
  },
  {
   "cell_type": "markdown",
   "metadata": {},
   "source": [
    "### クエリーの定義"
   ]
  },
  {
   "cell_type": "code",
   "execution_count": 5,
   "metadata": {},
   "outputs": [],
   "source": [
    "query=\"ハグリッドがホグワーツへの入学案内書を持ってきたのはいつですか？それはどのような日でしたか？\"\n",
    "#query=\"星野アイが所属するアイドルグループは何ですか？\"\n",
    "#query=\"時空管理局のアースラの艦長は誰ですか？\"\n",
    "#query=\"聖王のゆりかごとは何ですか、どのくらいの大きさですか？\"\n",
    "#query=\"スターライトブレイカーは誰のどのような魔法ですか？\"\n",
    "#query=\"フェイトが留学生として通った小学校は？\"\n"
   ]
  },
  {
   "cell_type": "markdown",
   "metadata": {},
   "source": [
    "### 類似性検索の実行"
   ]
  },
  {
   "cell_type": "code",
   "execution_count": 6,
   "metadata": {},
   "outputs": [],
   "source": [
    "\n",
    "results =vector_store.similarity_search_with_score(query, k=4)"
   ]
  },
  {
   "cell_type": "code",
   "execution_count": null,
   "metadata": {},
   "outputs": [],
   "source": [
    "print(\"検索結果:\")\n",
    "for i, (doc, score) in enumerate(results, 1):\n",
    "    print(f\"\\n=== 結果 {i} ===\")\n",
    "    print(f\"ソース: {doc.metadata['source']}\")\n",
    "    print(f\"スコア: {score:.4f}\")\n",
    "    print(f\"内容: {doc.page_content}\")"
   ]
  },
  {
   "cell_type": "code",
   "execution_count": null,
   "metadata": {},
   "outputs": [],
   "source": []
  }
 ],
 "metadata": {
  "kernelspec": {
   "display_name": ".venv",
   "language": "python",
   "name": "python3"
  },
  "language_info": {
   "codemirror_mode": {
    "name": "ipython",
    "version": 3
   },
   "file_extension": ".py",
   "mimetype": "text/x-python",
   "name": "python",
   "nbconvert_exporter": "python",
   "pygments_lexer": "ipython3",
   "version": "3.11.9"
  }
 },
 "nbformat": 4,
 "nbformat_minor": 2
}
