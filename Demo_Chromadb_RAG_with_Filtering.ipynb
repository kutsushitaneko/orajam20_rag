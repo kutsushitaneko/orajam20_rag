{
 "cells": [
  {
   "cell_type": "markdown",
   "metadata": {},
   "source": [
    "## ChromaDB を使った RAG のデモ"
   ]
  },
  {
   "cell_type": "markdown",
   "metadata": {},
   "source": [
    "### OpenAI API Key とLLM、埋め込みモデルの設定"
   ]
  },
  {
   "cell_type": "code",
   "execution_count": 1,
   "metadata": {},
   "outputs": [],
   "source": [
    "from dotenv import load_dotenv, find_dotenv\n",
    "# 環境変数 OPENAI_API_KEY に OpenAI API Key を設定（.env ファイルの OPENAI_API_KEY からロード）\n",
    "_ = load_dotenv(find_dotenv())\n",
    "embedding_model = \"text-embedding-3-large\" # 埋め込みモデル\n",
    "model = \"gpt-4o\" # LLM\n",
    "temperature = 0 # LLMの生成のランダムさ"
   ]
  },
  {
   "cell_type": "markdown",
   "metadata": {},
   "source": [
    "### LLMと埋め込みモデルの準備"
   ]
  },
  {
   "cell_type": "code",
   "execution_count": 2,
   "metadata": {},
   "outputs": [],
   "source": [
    "from langchain_openai import ChatOpenAI\n",
    "from langchain_openai import OpenAIEmbeddings\n",
    "\n",
    "# LLMの準備\n",
    "llm = ChatOpenAI(\n",
    "    model=model, # モデル\n",
    "    temperature=temperature, # ランダムさ\n",
    ")\n",
    "\n",
    "# 埋め込みモデルの準備\n",
    "embeddings = OpenAIEmbeddings(model=embedding_model)"
   ]
  },
  {
   "cell_type": "markdown",
   "metadata": {},
   "source": [
    "### 検索対象の ChromaDB コレクション名の設定\n",
    "コレクションとは、ChromaDB におけるベクトルデータの保存単位で、RDB のテーブルのようなもの"
   ]
  },
  {
   "cell_type": "code",
   "execution_count": 3,
   "metadata": {},
   "outputs": [],
   "source": [
    "#collection_name = \"mycollection_100\" # 検索対象のChromadb コレクション名（チャンクサイズ100文字で事前に作成済み）\n",
    "collection_name = \"mycollection_200\" # 検索対象のChromadb コレクション名（チャンクサイズ200文字で事前に作成済み）\n",
    "#collection_name = \"mycollection_500\" # 検索対象のChromadb コレクション名（チャンクサイズ500文字で事前に作成済み）\n",
    "#collection_name = \"mycollection_1000\" # 検索対象のChromadb コレクション名（チャンクサイズ1000文字で事前に作成済み）"
   ]
  },
  {
   "cell_type": "markdown",
   "metadata": {},
   "source": [
    "### VectorStoreの準備"
   ]
  },
  {
   "cell_type": "code",
   "execution_count": 4,
   "metadata": {},
   "outputs": [],
   "source": [
    "import chromadb\n",
    "from langchain_chroma import Chroma\n",
    "\n",
    "# LangChain の Chromadb VectorStore のインスタンスを作成\n",
    "vector_store = Chroma(\n",
    "    client=chromadb.PersistentClient(path=\"./chroma_db\"),\n",
    "    collection_name=collection_name,\n",
    "    embedding_function=embeddings,\n",
    "    collection_metadata={\"hnsw:space\": \"ip\"} \n",
    ")"
   ]
  },
  {
   "cell_type": "markdown",
   "metadata": {},
   "source": [
    "### PromptTemplateの準備"
   ]
  },
  {
   "cell_type": "code",
   "execution_count": 5,
   "metadata": {},
   "outputs": [],
   "source": [
    "from langchain_core.prompts import ChatPromptTemplate\n",
    "\n",
    "prompt_template = ChatPromptTemplate.from_messages(\n",
    "    [\n",
    "        (\"system\", \"あなたの仕事は、human の question に答えることです。以下の手順で回答してください。前置きや思考経過は出力しないでください。context の中の source のファイル名には、content の主題が含まれています。最初に、 context に書かれている情報だけを使用して、question の質問に答えることができるかどうか判断してください、判断結果は出力しません。次に、context にある情報だけで回答が可能と判断した場合は、context に書かれている情報だけを使用して、question の質問に答えてください。context にある情報だけでは回答できないと判断した場合は、情報がないので回答できないと答えてください。\\n\\ncontext: {context}\"),\n",
    "        (\"human\", \"question: {input}\"),\n",
    "    ]\n",
    ")"
   ]
  },
  {
   "cell_type": "markdown",
   "metadata": {},
   "source": [
    "### 質問の定義"
   ]
  },
  {
   "cell_type": "code",
   "execution_count": 15,
   "metadata": {},
   "outputs": [],
   "source": [
    "query=\"フェイトが留学生として通った小学校は？\""
   ]
  },
  {
   "cell_type": "markdown",
   "metadata": {},
   "source": [
    "### Retrieverの準備（フィルターなし）"
   ]
  },
  {
   "cell_type": "code",
   "execution_count": 16,
   "metadata": {},
   "outputs": [],
   "source": [
    "retriever = vector_store.as_retriever(\n",
    "    search_type=\"similarity\",\n",
    "    search_kwargs={\"k\": 20}\n",
    ")"
   ]
  },
  {
   "cell_type": "code",
   "execution_count": 17,
   "metadata": {},
   "outputs": [],
   "source": [
    "from langchain_core.runnables import RunnablePassthrough\n",
    "\n",
    "rag_chain = (\n",
    "    {\"context\": retriever, \"input\": RunnablePassthrough()}\n",
    "    | prompt_template\n",
    "    | (lambda x: print(f\"\\n=== Generated Prompt ===\\n{x}\\n========================\\n\\n\") or x)  # プロンプトを表示\n",
    "    | llm\n",
    ")"
   ]
  },
  {
   "cell_type": "markdown",
   "metadata": {},
   "source": [
    "### RAGチェーンの準備"
   ]
  },
  {
   "cell_type": "code",
   "execution_count": 18,
   "metadata": {},
   "outputs": [],
   "source": [
    "from langchain_core.runnables import RunnablePassthrough\n",
    "\n",
    "rag_chain = (\n",
    "    {\"context\": retriever, \"input\": RunnablePassthrough()}\n",
    "    | prompt_template\n",
    "    | (lambda x: print(f\"\\n=== Generated Prompt ===\\n{x}\\n========================\\n\\n\") or x)  # プロンプトを表示\n",
    "    | llm\n",
    ")"
   ]
  },
  {
   "cell_type": "markdown",
   "metadata": {},
   "source": [
    "### RAGの実行（フィルターなし）"
   ]
  },
  {
   "cell_type": "code",
   "execution_count": 19,
   "metadata": {},
   "outputs": [
    {
     "name": "stdout",
     "output_type": "stream",
     "text": [
      "\n",
      "=== Generated Prompt ===\n",
      "messages=[SystemMessage(content='あなたの仕事は、human の question に答えることです。以下の手順で回答してください。前置きや思考経過は出力しないでください。context の中の source のファイル名には、content の主題が含まれています。最初に、 context に書かれている情報だけを使用して、question の質問に答えることができるかどうか判断してください、判断結果は出力しません。次に、context にある情報だけで回答が可能と判断した場合は、context に書かれている情報だけを使用して、question の質問に答えてください。context にある情報だけでは回答できないと判断した場合は、情報がないので回答できないと答えてください。\\n\\ncontext: [Document(id=\\'279f9053-60af-40f8-8585-3ffd978d5351\\', metadata={\\'source\\': \\'data\\\\\\\\Wikipedia-高町なのは.pdf\\'}, page_content=\\'魔法を知ってからはさらに良くなっている)ただし文系(アリサ曰く中の下)と体育が苦手と本人はいっているがどれほどなのかははっきりしない。なのはの住む世界では非常に珍しく、魔導師として「天才」と呼べる素質があり、更に希少なレアスキルである『魔力収束』を持ち、ユーノを師として実戦を繰り返す中で急速に才能を開花させてゆく。魔力の放出‧集束と制御を得意とし、圧縮‧縮小は苦手。\\'), Document(id=\\'7cf792fd-e8b9-4feb-a948-3277ae28c83f\\', metadata={\\'source\\': \\'data\\\\\\\\Wikipedia-魔法科高校の劣等生.pdf\\'}, page_content=\\'九校戦の新入生女子代表メンバー。スピードシューティングでは雫、英美に次ぐ三位の成績を収めている。『魔法科高校の優等生』では達也の不敗記録が最も破られかねない試合で、実力上位である第三高校の十七夜 栞に三位決定戦で勝っている。春日 菜々美(かすが ななみ)声 - 久野美咲2095年の九校戦の選手に選ばれた、一科生の女子生徒。\\'), Document(id=\\'c0415dcd-1d47-4c9d-83eb-3aec73f144cb\\', metadata={\\'source\\': \\'data\\\\\\\\Wikipedia-魔法科高校の劣等生.pdf\\'}, page_content=\\'通称「砲撃魔法」という、大質量の物体を高速で短時間移動させる移動系統魔法を得意とする。学年末試験では学年総合4位をマークする優等生。底抜けに明るい性格の持ち主。\\'), Document(id=\\'d3f51ccc-d51d-4fce-97cd-c3d5e35832de\\', metadata={\\'source\\': \\'data\\\\\\\\Wikipedia-高町なのは.pdf\\'}, page_content=\"自称「平凡な小学3年生」[2]。『A\\'s』時にはAAAクラスの魔導師。左利き[3]。明るく優しい性格で強い正義感を持つが、辛いこと、悲しいことを抱え込んでしまう癖があり、一時期はそれが原因で彼女を心配する友人のアリサとケンカ寸前にまでなった。学校の成績は良い方で理数系が得意(アリサ曰く自分より成績が上と言われるほど。\"), Document(id=\\'3cd30941-d34b-49b5-b796-948448316557\\', metadata={\\'source\\': \\'data\\\\\\\\Wikipedia-魔法科高校の劣等生.pdf\\'}, page_content=\\'魔法の才能不足の原因は、魔法演算領域の一部が直接制御型の移動系魔法(念動力)に占有されているためであり、魔法の技術的には高い水準にある。本人は念動力に見切りを付け体術を磨いてきたため身体を使う技術も高いが、戦い方はエリカたちと比べるとまだ拙い。『キグナスの乙女たち』では、第一高校の3年生になり、生徒会の会計になっている。\\'), Document(id=\\'25ee5c6b-82b1-4772-a66b-ad1408459c6b\\', metadata={\\'source\\': \\'data\\\\\\\\Wikipedia-魔法科高校の劣等生.pdf\\'}, page_content=\\'個々の魔法に関する知識が豊富で、相手が使う魔法を一発目で正確に把握し、二発目以降を最適な魔法で相殺するという特技を持つ。その実力から一高の中で上位の戦闘力を持つ。国東 久美子(くにさき くみこ)2096年度3年B組の女子生徒(一科生)→卒業。ボート部所属。下級生の英美に対して自分のことを「クーちゃん」と呼んでもらうようにいうなど、英美が第一印象でそう感じるほどフランクな性格。\\'), Document(id=\\'5377ea2b-db56-46fd-ad5b-3e5b17435964\\', metadata={\\'source\\': \\'data\\\\\\\\Wikipedia-高町なのは.pdf\\'}, page_content=\\'ある意味では、通常の魔道師には対応不可能なレベルでの魔力運用を「こなせてしまう」天性の魔法の才能が、彼女自身と周囲の人間の認識を甘くする一因になったともいえる。闇の書事件終結の2年後、11歳の冬に今まで溜めてきた無茶と負担のツケがまわり、任務中の僅かな反応の遅れから瀕死の重傷を負ってしまう。一時は空を飛ぶことも歩くことすら不可能になる危険性もあったが、半年間の過酷なリハビリを経て回復[9]。\\'), Document(id=\\'a4070f3f-b4b4-4f4a-9c85-6bf43f3c9d66\\', metadata={\\'source\\': \\'data\\\\\\\\Wikipedia-魔法科高校の劣等生.pdf\\'}, page_content=\\'こうして新人戦は一高の優勝で終わる。本戦後半のミラージ‧バットで、一高三年生の小早川景子が試合中に突如魔法が使えなくなって高所から転落しリタイアを余儀なくされる。しかし深雪は飛行魔法を使用して優勝する。これをもって一高の総合優勝が確定する。\\'), Document(id=\\'18f78160-73a2-40af-bb57-27d51301a528\\', metadata={\\'source\\': \\'data\\\\\\\\Wikipedia-高町なのは.pdf\\'}, page_content=\\'そのあまりの魔道師センスの高さに、師のユーノ自身でさえも驚きの色を隠せなかったほどであり、第1期で彼女の能力をコンピューター分析したエイミィがその分析結果を見て「(当時の段階で、すでにレベルが)AAAクラス。魔力だけに限るとクロノより上。」と太鼓判を押したほど。一方で自らを顧みずに無茶をし過ぎる性向も危惧されていた。魔力光は桜色。バリアジャケット(魔法服)は聖祥小学校制服の影響が色濃い。\\'), Document(id=\\'07779234-bf8d-41db-9c1f-aa065a6359b8\\', metadata={\\'source\\': \\'data\\\\\\\\Wikipedia-マギアレコード_魔法少女まどか☆マギカ外伝.pdf\\'}, page_content=\\'一方、神浜にはそのブレスレットと自動浄化システムを求め、神浜への復讐を誓う二木市の魔法少女たち「プロミストブラッド」(紅晴結菜、煌里ひかる、大庭樹里、笠音アオ)と、日の本の平和にその命をかけている「時女一族」の魔法少女(時女静香、広江ちはる、土岐すなお)らが訪れると共に、マギウスの翼の残党で構成される「ネオマギウス」(宮尾時雨、安積はぐ\\\\x0cむ)、\\'), Document(id=\\'108b6ca3-3123-42b6-8b85-9bcd8e32adb7\\', metadata={\\'source\\': \\'data\\\\\\\\Wikipedia-魔法科高校の劣等生.pdf\\'}, page_content=\\'風紀委員の沢木碧は部活の先輩でもある。一学期末は実技‧理論とも5位の総合4位、学年末試験では総合5位をマークする優等生。しかし、自らの特性から九校戦選手には選ばれない。生まれつきサイオンを強く引き寄せる体質を持ち、本来なら体から流れ出るはずのサイオンが本体から離れようとしないため、体に密着する範囲でしか魔法式を展開できない。\\'), Document(id=\\'85950eb7-56ee-41f3-b082-8bdc009b3a52\\', metadata={\\'source\\': \\'data\\\\\\\\Wikipedia-美樹さやか.pdf\\'}, page_content=\\'時空軸によっては、ディスコのような結界に住み、ダンスをする使い魔を従えることもある。魔法少女まどか☆マギカまどかと共に魔法少女の世界に足を踏み入れる。幼馴染の上条恭介に一途な想いを寄せており、治療不可能な怪我によってバイオリン奏者になる夢を絶たれた恭介を救うため、巴マミの死後、恭介の腕の治癒を願ってキュゥべえと契約し、魔法少女となる。\\'), Document(id=\\'b018a464-90d0-4d25-8efa-c4cbdb759bb7\\', metadata={\\'source\\': \\'data\\\\\\\\Wikipedia-魔法科高校の劣等生.pdf\\'}, page_content=\\'実は調整体であり、調整体の欠点の全てを克服し、人間以上に人間として完成された完全調整体で、魔法師として四葉の最高傑作とされている。世界を破壊し得る達也の魔法を抑え込むために生み出されたと、真夜は語っている。九重八雲の道場で武術の修行を受けており、身体能力の面でも同世代の女子より優れている。第一高校卒業後は魔法大学に入学。\\'), Document(id=\\'6904e7a4-1de1-4377-a294-98a3db658ebc\\', metadata={\\'source\\': \\'data\\\\\\\\Wikipedia-魔法科高校の劣等生.pdf\\'}, page_content=\\'卓越した遠隔精密射撃魔法の実力と見た目のイメージから「エルフィン‧スナイパー」または「妖精姫」の異名で呼ばれているが、小柄な体型にコンプレックスのある本人はその名を嫌っている。魔法戦闘の実力では兄弟姉妹の間で最も強い。ルックスの良さと高い魔法力、優れたディベート能力もあり生徒会⻑としての支持も厚い。\\'), Document(id=\\'45c6f1a2-9f75-4b8e-9467-9b73ff201ab2\\', metadata={\\'source\\': \\'data\\\\\\\\Wikipedia-魔法科高校の劣等生.pdf\\'}, page_content=\\'雫の幼馴染。魔法の実力は実技、理論とも4位で、総合は深雪に次ぐ学年総合2位だが、少々気弱で自分に自信がない面もある。「光井」の名の通り、光波振動系(光に干渉する魔法)に特化した適性を持つ、光のエレメンツの血統である。複雑な工程を多く含む魔法を難なくこなせる研究者タイプの資質を持つ。\\'), Document(id=\\'5d2360b0-aa40-4b2d-bf2f-b5abe7b5bb8f\\', metadata={\\'source\\': \\'data\\\\\\\\Wikipedia-魔法少女まどか☆マギカ.pdf\\'}, page_content=\\'本作品における魔法少女とはどんな願いでも1つ叶えることと引き換えにキュゥべえと契約を結び、魔女と戦う使命を課せられた存在である。魔法少女の素質を示す魔法係数は、その人物が抱える因果の大きさによって決まり、主に国を束ねる者や、救世主と呼ばれる者などが高い資質を持つ傾向にある[34]。ただし、主人公のまどかは平凡な中学二年生でありながら高い素質を持っている。\\'), Document(id=\\'8e118006-51c9-4f02-95e4-3ef5407fc56d\\', metadata={\\'source\\': \\'data\\\\\\\\Wikipedia-魔法科高校の劣等生.pdf\\'}, page_content=\\'だが魔法面はどちらかと言えば「光」を強く受け継いでいる。五十里 明(いそり めい)『キグナスの乙女たち』からの登場人物で、2099年4月で第一高校の1年生である女子生徒。新入生の入学成績の首席で、新入生総代を務める。詩奈からの勧誘で生徒会に入り、陸上部に入部する。達也を非常に尊敬しているが、逆に深雪のことはその美貌を「作り物じみている」と感じて好きになれないでいる。\\'), Document(id=\\'98abb0bd-5b10-4d9a-9ea8-8852c2340fc7\\', metadata={\\'source\\': \\'data\\\\\\\\Wikipedia-魔法科高校の劣等生.pdf\\'}, page_content=\\'本人のルックスも相まって、当時は「美少女剣士」や「剣道小町」などと呼ばれていた。魔法科高校では魔法の成績だけしか評価されずに、クラブ活動でも一般競技系の部活が魔法系競技の部活に比べて、差別的な待遇を受けていると考え、不満を抱いていた。その不満ゆえに剣道部の部⻑(司甲)がブランシュの下部組織に勧誘し、司一のマインドコントロールを受けて魔法大学の非公開資料を盗み出すために利用される。\\'), Document(id=\\'78a764e3-f7d4-4390-9e08-e4806ea2a6af\\', metadata={\\'source\\': \\'data\\\\\\\\Wikipedia-魔法科高校の劣等生.pdf\\'}, page_content=\\'古式魔法師としての腕を磨きながら現代魔法の勉強にも熱心に取り組んでおり、1年次には筆記試験で、達也‧深雪に次ぎ、学年3位をマークしている。また身体能力も卓越しており、魔法抜きでも侍郎をいとも容易く組み伏せる等、高い格闘技術を持つ。第一高校卒業後は、魔法大学に入学。\\'), Document(id=\\'f98dd689-0e2c-46cf-9994-2903a70a2ad6\\', metadata={\\'source\\': \\'data\\\\\\\\Wikipedia-魔法科高校の劣等生.pdf\\'}, page_content=\\'身⻑158cm、体重52kg。魔法師の家庭の生まれではないが、隔世遺伝で魔法の素質が発現し、二科生ながら達也と同じく魔法工学技師を志望している。母親は翻訳家。おとなしい性格で、当初はエリカの奔放な振る舞いに振り回されていたが、徐々に付き合い方を習得しつつある。幹比古とは互いの存在を意識しあっている。\\')]', additional_kwargs={}, response_metadata={}), HumanMessage(content='question: 運動神経が良い魔法少女は誰？', additional_kwargs={}, response_metadata={})]\n",
      "========================\n",
      "\n",
      "\n",
      "=== LLM response ======\n",
      "content='情報がないので回答できません。' additional_kwargs={'refusal': None} response_metadata={'token_usage': {'completion_tokens': 9, 'prompt_tokens': 4010, 'total_tokens': 4019, 'completion_tokens_details': {'accepted_prediction_tokens': 0, 'audio_tokens': 0, 'reasoning_tokens': 0, 'rejected_prediction_tokens': 0}, 'prompt_tokens_details': {'audio_tokens': 0, 'cached_tokens': 0}}, 'model_name': 'gpt-4o-2024-08-06', 'system_fingerprint': 'fp_4691090a87', 'finish_reason': 'stop', 'logprobs': None} id='run-c430be97-f281-484c-bd61-7272c04ee39e-0' usage_metadata={'input_tokens': 4010, 'output_tokens': 9, 'total_tokens': 4019, 'input_token_details': {'audio': 0, 'cache_read': 0}, 'output_token_details': {'audio': 0, 'reasoning': 0}}\n",
      "========================\n",
      "\n",
      "=== 回答 ===============\n",
      "情報がないので回答できません。\n",
      "========================\n",
      "\n"
     ]
    }
   ],
   "source": [
    "response = rag_chain.invoke(query)\n",
    "print(f\"=== LLM response ======\\n{response}\\n========================\\n\")\n",
    "print(f\"=== 回答 ===============\\n{response.content}\\n========================\\n\")"
   ]
  },
  {
   "cell_type": "markdown",
   "metadata": {},
   "source": [
    "### Retrieverの準備（フィルターあり）"
   ]
  },
  {
   "cell_type": "code",
   "execution_count": 11,
   "metadata": {},
   "outputs": [],
   "source": [
    "source_list=[\"data\\\\Wikipedia-フェイト・テスタロッサ.pdf\"]"
   ]
  },
  {
   "cell_type": "code",
   "execution_count": 12,
   "metadata": {},
   "outputs": [],
   "source": [
    "retriever = vector_store.as_retriever(\n",
    "    search_type=\"similarity\",\n",
    "    search_kwargs={\"k\": 20, \"filter\": {\"source\": {\"$in\": source_list}}}\n",
    ")"
   ]
  },
  {
   "cell_type": "markdown",
   "metadata": {},
   "source": [
    "### RAGチェーンの準備"
   ]
  },
  {
   "cell_type": "code",
   "execution_count": 13,
   "metadata": {},
   "outputs": [],
   "source": [
    "from langchain_core.runnables import RunnablePassthrough\n",
    "\n",
    "rag_chain = (\n",
    "    {\"context\": retriever, \"input\": RunnablePassthrough()}\n",
    "    | prompt_template\n",
    "    | (lambda x: print(f\"\\n=== Generated Prompt ===\\n{x}\\n========================\\n\\n\") or x)  # プロンプトを表示\n",
    "    | llm\n",
    ")"
   ]
  },
  {
   "cell_type": "markdown",
   "metadata": {},
   "source": [
    "### RAGの実行（フィルターあり）"
   ]
  },
  {
   "cell_type": "code",
   "execution_count": 14,
   "metadata": {},
   "outputs": [
    {
     "name": "stdout",
     "output_type": "stream",
     "text": [
      "\n",
      "=== Generated Prompt ===\n",
      "messages=[SystemMessage(content='あなたの仕事は、human の question に答えることです。以下の手順で回答してください。前置きや思考経過は出力しないでください。context の中の source のファイル名には、content の主題が含まれています。最初に、 context に書かれている情報だけを使用して、question の質問に答えることができるかどうか判断してください、判断結果は出力しません。次に、context にある情報だけで回答が可能と判断した場合は、context に書かれている情報だけを使用して、question の質問に答えてください。context にある情報だけでは回答できないと判断した場合は、情報がないので回答できないと答えてください。\\n\\ncontext: [Document(id=\\'dc122ab2-0305-4855-91eb-e11d08dac400\\', metadata={\\'source\\': \\'data\\\\\\\\Wikipedia-フェイト・テスタロッサ.pdf\\'}, page_content=\\'さらに、手足にバルディッシュのフィンブレードやなのはのフライアーフィンのような光の羽「ソニックセイル」を生やしている。また、右手にも装甲が追加されている。圧倒的な運動性‧機動性‧攻撃速度を手に入れた分、「受け」に使用する手足以外は防御力は無いに等しく、加速と攻撃の反動に耐える以外の目的は無い。攻撃に当たれば致命傷になりかねないのでまさに諸刃の剣といってよい。\\'), Document(id=\\'cdaca5ab-e317-4418-ba64-3f5b839fc996\\', metadata={\\'source\\': \\'data\\\\\\\\Wikipedia-フェイト・テスタロッサ.pdf\\'}, page_content=\\'なのは同様魔導師としての才能は非凡なものがある上に、幼い頃から母の使い魔であったリニスから戦闘訓練を受けて驚異的な速度でその教えを習得。出会った当初、なのはは手も足も出なかった。高速移動からの斬撃による一撃離脱を得意とし、射撃‧広範囲魔法も優れた前衛戦闘型の魔導師。一方でバリア出力の低さなど防御面に難があり、また攻撃に傾倒し過ぎるためトラップに弱い点をクロノに指摘された。魔力光は金色。\\'), Document(id=\\'c6268805-e7a2-451d-acbf-90e198d0cdaa\\', metadata={\\'source\\': \\'data\\\\\\\\Wikipedia-フェイト・テスタロッサ.pdf\\'}, page_content=\"バリアジャケットはやや軍服調の〈インパルスフォーム〉という形態をとっている。その他に、レオタードのような薄い装甲の高速戦用形態〈真‧ソニックフォーム〉が存在する(『A\\'s』の時点では通常状態〈ライトニングフォーム〉と、高速移動形態〈ソニックフォーム〉があった)。幼馴染である、なのはやはやてとは今でも親友である。特になのはとは、機動六課出向中は寮のルームメイト同士。自動車を所有している。\"), Document(id=\\'4b967949-1e04-4b70-a1ea-340035a4049b\\', metadata={\\'source\\': \\'data\\\\\\\\Wikipedia-フェイト・テスタロッサ.pdf\\'}, page_content=\\'手が空いているときは2人の訓練も手がけるが、執務官という役柄上隊舎を空けることが多く、普段はなのはやヴィータに訓練は任せている模様。そのほかにも、シャーリーの新人4名用新デバイスの設計に協力もしていた。最終話の模擬戦については、彼女のみ聞いておらず「全力全開」での模擬戦に戶惑っていたが、呆れながらもヴィヴィオに諭され納得し、準備段階から真‧ソニックフォーム形態で勝負をすることになった。\\'), Document(id=\\'8cecf9db-d778-4c27-b5ab-15631cf53e27\\', metadata={\\'source\\': \\'data\\\\\\\\Wikipedia-フェイト・テスタロッサ.pdf\\'}, page_content=\\'そのため、事あるごとに勝負をするため、ヴィータからはシグナム共々「バトルマニア」呼ばわりされているが、シグナムとの模擬戦が好きなだけで決して好戦的というわけではない(ただし、負けず嫌いではあるらしい)。\\'), Document(id=\\'e6950181-8156-4dfa-9ef5-f669172f5102\\', metadata={\\'source\\': \\'data\\\\\\\\Wikipedia-フェイト・テスタロッサ.pdf\\'}, page_content=\\'速度を極限までに重視するために防御力を完全に無視した状態であり、バルディッシュのライオットザンバーの性能を最大限に引き出すための形態とも言っても過言ではない。The MOVIE 1stVer.なのはに比べると変化は少ないが、マントが逆V字状となる切れ目が入っている。ディフェンサー(Defensor)高速自動防御魔法。\\'), Document(id=\\'10f2bdd7-1166-4308-83b1-bed36dce1007\\', metadata={\\'source\\': \\'data\\\\\\\\Wikipedia-フェイト・テスタロッサ.pdf\\'}, page_content=\\'他にも運動神経が良く接近戦が多いためかフェイト役の水樹奈々やファンなどから王子様キャラだと思われがちだが実際はレヴィにセクハラをされ、真っ赤になるなどなのはよりも女の子らしい部分があり、『The MOVIE 1st』の告知の時、キャロから「守ってあげたくなるお姫様タイプ」と言われている。\\'), Document(id=\\'f1aa1d26-979b-45ca-a11d-13a4e2102bb4\\', metadata={\\'source\\': \\'data\\\\\\\\Wikipedia-フェイト・テスタロッサ.pdf\\'}, page_content=\\'エリオ達のような子供を保護したり、またハラオウン家で甥と姪(クロノとエイミィの子供)や、遡っては幼いころに当時生まれて間もなかったアルフの面倒を見ていたりしたためか、子供の扱いは手馴れており、なのはを困らせていたヴィヴィオを諭してみせてスバル達に感心される一幕もあった。\\'), Document(id=\\'8d4426c6-2339-4ffc-946b-c03b7bcdf231\\', metadata={\\'source\\': \\'data\\\\\\\\Wikipedia-フェイト・テスタロッサ.pdf\\'}, page_content=\"元来の防御の薄さを補うのではなく、さらに⻑所である高速戦闘を追求するあたり、「速度」に全てを賭けたフェイトの決意の表れである。『A\\'s』第7話で名前のみ登場。実際に披露したのは第9話だが、このときも仮面の戦士が乱入したため、真価は発揮できずじまい。\"), Document(id=\\'26455946-2e9a-404d-8e0e-77f387e369f4\\', metadata={\\'source\\': \\'data\\\\\\\\Wikipedia-フェイト・テスタロッサ.pdf\\'}, page_content=\\'自動車を所有している。様々な事件を解決する一方でロストロギアや違法研究の捜査を行っている。また事件の犠牲となった子供たちを保護し、救うことを自らに任じており、かつての自分と似た境遇のエリオとキャロの保護者となっている。仕事振りも優秀な一流の魔導師だが、仕事を離れれば親友や子供たちに対して少々過保護なほど世話焼きな性格。\\'), Document(id=\\'d375037f-3a67-462f-8590-d43d23529cfc\\', metadata={\\'source\\': \\'data\\\\\\\\Wikipedia-フェイト・テスタロッサ.pdf\\'}, page_content=\"魔力光は金色。魔力変換資質「電気」を保有しているため、変換プロセスを踏まずに電気を発生できる。『A\\'s』時ではAAAクラスの魔導師。 初見の印象からクールな人物と思われがちだが、本来は争いごとを嫌い心優しく、遠慮と心配の豊かな少女。母‧プレシアから虐待同然の酷い仕打ちを受けながらも懸命に尽くそうとするなど、強い意志の持ち主であり、プレシアを救いたいが故に頑固な一面を持つ。\"), Document(id=\\'69228a08-daf2-4ae1-a015-1b93792630a9\\', metadata={\\'source\\': \\'data\\\\\\\\Wikipedia-フェイト・テスタロッサ.pdf\\'}, page_content=\\'その裁判の途中に嘱託魔導師となり、またなのはやその親友のアリサ、すずかともビデオメールで交遊を重ねていた[5]。その後、ヴィータの襲撃を受けたなのはの窮地にユーノ、アルフと共に駆け付け、戦いに加わることになる。そして、魔導師を襲撃して闇の書を蒐集するヴォルケンリッターと幾度となく衝突。その戦闘の最中、ヴォルケンリッターのリーダー格であるシグナムとは好敵手のような関係となった。\\'), Document(id=\\'f87b32be-a8d7-4076-a3ec-1561e32de7b2\\', metadata={\\'source\\': \\'data\\\\\\\\Wikipedia-フェイト・テスタロッサ.pdf\\'}, page_content=\\'第10話では、至近距離から囲まれた状態で放たれたブラッディダガーを回避するのみならず、同じく至近距離で囲まれていたなのはを救出するシーンで性能の片鱗をみせたが、ラストで闇の書の意志に突撃をかけたところでは、距離がありすぎたためか、あっさり返り討ちにあう。近接戦闘を主体としたこのフォームでの中距離以上の戦闘は向かないと思われる。\\'), Document(id=\\'bcafb3a9-0353-4319-a421-f999e68b1b97\\', metadata={\\'source\\': \\'data\\\\\\\\Wikipedia-フェイト・テスタロッサ.pdf\\'}, page_content=\"機動力に優れ、「防ぐ」よりも「かわす」ことに特化したフェイトは、防御魔法は苦手で、このディフェンサーも、バルディッシュの自動詠唱による最低限の防御でしかない。ディフェンサープラス(Defensor Plus)『A\\'s』第7話で初使用された、ディフェンサーの強化版。受け止めるよりは反らすための防御魔法で、膜状のバリアを発生させる。\"), Document(id=\\'3e85386a-293f-41c1-a29b-2b45043dce49\\', metadata={\\'source\\': \\'data\\\\\\\\Wikipedia-フェイト・テスタロッサ.pdf\\'}, page_content=\\'以降、フェイトは基本的にはこのライトニングフォームを纏い、必要時のみ下記のソニックフォームに切り替える、という方式をとっている。両足と左手の追加装甲に目を奪われがちだが、なのはのセイクリッドモードと比較すると、むしろ防御の強化はピンポイントに止めることで魔力消費の増加を抑え、元来の高速機動を存分に生かすことを目的としている。\\'), Document(id=\\'a3c1d499-81dd-407d-b886-b4c189be3c43\\', metadata={\\'source\\': \\'data\\\\\\\\Wikipedia-フェイト・テスタロッサ.pdf\\'}, page_content=\"ハーケンフォームの刃を飛ばして攻撃する。 刃の形状は、射出したときは三日月型だが、飛翔しながら高速回転して円形状に変化する(VFB及びA\\'sDVD第3巻ブックレット)。 高い切断力と自動誘導の性能を持つ。ただし映像で見た限りでは速度など性能面に特に変化は認められない。『A\\'s』第7話で、シグナムはハーケンセイバーが放たれた後から自分の攻撃を仕掛け、それから改めて回避行動をしていた。\"), Document(id=\\'573883bc-f9d0-403c-a9ee-328a5f591c75\\', metadata={\\'source\\': \\'data\\\\\\\\Wikipedia-フェイト・テスタロッサ.pdf\\'}, page_content=\\'The MOVIE 2ndVer.TV版同様に装甲を施した上で、マントの装着方式と共に襟元が変更。その他白や赤のライン、金色の留め具など装飾が増え、基本は同一ながらイメージの変わったものとなっている。ソニックフォーム(Sonic Form)フェイトのバリアジャケットの換装形態。装甲をさらに薄くすることによってより高い高速機動を実現する。見た目は、ほとんどレオタードにスパッツのみという状態。\\'), Document(id=\\'a63380cc-b42f-4450-824f-9be43daa2079\\', metadata={\\'source\\': \\'data\\\\\\\\Wikipedia-フェイト・テスタロッサ.pdf\\'}, page_content=\\'バルディッシュの形状も死神の鎌をモチーフとしている。私服も黒を好むが白物も選ぶ傾向があるらしい。『StrikerS』時19歳(外見年齢)。執務官。魔法術式‧ミッドチルダ式/魔導師ランク‧空戦S+。部隊ごとに保有出来る魔導師ランクの総計規模の関連でかけられる「能力限定」の魔力リミッターによって、なのはと同様約2.5ランク落ちている。\\'), Document(id=\\'59d249e2-4caa-4031-b3be-fa3180cf2c99\\', metadata={\\'source\\': \\'data\\\\\\\\Wikipedia-フェイト・テスタロッサ.pdf\\'}, page_content=\\'衣服だけではなく、衣服に覆われていない部分やデバイス本体も防御フィールドを生成して身を守ったり、空気抵抗を無効化している。魔力で出来ているので、発動中(身に付けている間)は常に術者の魔力を消費し続ける。 このため、基本的には必要な時のみにしか装備しない。 また、その消費魔力量には差があり、防御力に比例していると考えられる。\\'), Document(id=\\'5f77c8c9-07b6-4379-a20c-1e931fe2fac4\\', metadata={\\'source\\': \\'data\\\\\\\\Wikipedia-フェイト・テスタロッサ.pdf\\'}, page_content=\\'また素直な性格なため、プレシアの自身への仕打ちや自身の記憶の曖昧さなどをまったく疑わずジュエルシードを集めをした。\\')]', additional_kwargs={}, response_metadata={}), HumanMessage(content='question: 運動神経が良いのは誰？', additional_kwargs={}, response_metadata={})]\n",
      "========================\n",
      "\n",
      "\n",
      "=== LLM response ======\n",
      "content='フェイト・テスタロッサです。' additional_kwargs={'refusal': None} response_metadata={'token_usage': {'completion_tokens': 11, 'prompt_tokens': 3776, 'total_tokens': 3787, 'completion_tokens_details': {'accepted_prediction_tokens': 0, 'audio_tokens': 0, 'reasoning_tokens': 0, 'rejected_prediction_tokens': 0}, 'prompt_tokens_details': {'audio_tokens': 0, 'cached_tokens': 0}}, 'model_name': 'gpt-4o-2024-08-06', 'system_fingerprint': 'fp_4691090a87', 'finish_reason': 'stop', 'logprobs': None} id='run-55c684ee-14a1-4ceb-a99d-09516b56be4e-0' usage_metadata={'input_tokens': 3776, 'output_tokens': 11, 'total_tokens': 3787, 'input_token_details': {'audio': 0, 'cache_read': 0}, 'output_token_details': {'audio': 0, 'reasoning': 0}}\n",
      "========================\n",
      "\n",
      "=== 回答 ===============\n",
      "フェイト・テスタロッサです。\n",
      "========================\n",
      "\n"
     ]
    }
   ],
   "source": [
    "response = rag_chain.invoke(query)\n",
    "print(f\"=== LLM response ======\\n{response}\\n========================\\n\")\n",
    "print(f\"=== 回答 ===============\\n{response.content}\\n========================\\n\")\n"
   ]
  },
  {
   "cell_type": "code",
   "execution_count": null,
   "metadata": {},
   "outputs": [],
   "source": []
  }
 ],
 "metadata": {
  "kernelspec": {
   "display_name": ".venv",
   "language": "python",
   "name": "python3"
  },
  "language_info": {
   "codemirror_mode": {
    "name": "ipython",
    "version": 3
   },
   "file_extension": ".py",
   "mimetype": "text/x-python",
   "name": "python",
   "nbconvert_exporter": "python",
   "pygments_lexer": "ipython3",
   "version": "3.11.9"
  }
 },
 "nbformat": 4,
 "nbformat_minor": 2
}
