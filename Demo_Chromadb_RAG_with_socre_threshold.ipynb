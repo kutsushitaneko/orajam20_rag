{
 "cells": [
  {
   "cell_type": "markdown",
   "metadata": {},
   "source": [
    "## ChromaDB を使った RAG のデモ"
   ]
  },
  {
   "cell_type": "markdown",
   "metadata": {},
   "source": [
    "### OpenAI API Key とLLM、埋め込みモデルの設定"
   ]
  },
  {
   "cell_type": "code",
   "execution_count": 2,
   "metadata": {},
   "outputs": [],
   "source": [
    "from dotenv import load_dotenv, find_dotenv\n",
    "# 環境変数 OPENAI_API_KEY に OpenAI API Key を設定（.env ファイルの OPENAI_API_KEY からロード）\n",
    "_ = load_dotenv(find_dotenv())\n",
    "embedding_model = \"text-embedding-3-large\" # 埋め込みモデル\n",
    "model = \"gpt-4o\" # LLM\n",
    "temperature = 0 # LLMの生成のランダムさ"
   ]
  },
  {
   "cell_type": "markdown",
   "metadata": {},
   "source": [
    "### LLMと埋め込みモデルの準備"
   ]
  },
  {
   "cell_type": "code",
   "execution_count": 3,
   "metadata": {},
   "outputs": [],
   "source": [
    "from langchain_openai import ChatOpenAI\n",
    "from langchain_openai import OpenAIEmbeddings\n",
    "\n",
    "# LLMの準備\n",
    "llm = ChatOpenAI(\n",
    "    model=model, # モデル\n",
    "    temperature=temperature, # ランダムさ\n",
    ")\n",
    "\n",
    "# 埋め込みモデルの準備\n",
    "embeddings = OpenAIEmbeddings(model=embedding_model)"
   ]
  },
  {
   "cell_type": "markdown",
   "metadata": {},
   "source": [
    "### 検索対象の ChromaDB コレクション名の設定\n",
    "コレクションとは、ChromaDB におけるベクトルデータの保存単位で、RDB のテーブルのようなもの"
   ]
  },
  {
   "cell_type": "code",
   "execution_count": 4,
   "metadata": {},
   "outputs": [],
   "source": [
    "#collection_name = \"mycollection_100\" # 検索対象のChromadb コレクション名（チャンクサイズ100文字で事前に作成済み）\n",
    "collection_name = \"mycollection_200\" # 検索対象のChromadb コレクション名（チャンクサイズ200文字で事前に作成済み）\n",
    "#collection_name = \"mycollection_500\" # 検索対象のChromadb コレクション名（チャンクサイズ500文字で事前に作成済み）\n",
    "#collection_name = \"mycollection_1000\" # 検索対象のChromadb コレクション名（チャンクサイズ1000文字で事前に作成済み）"
   ]
  },
  {
   "cell_type": "markdown",
   "metadata": {},
   "source": [
    "### VectorStoreの準備"
   ]
  },
  {
   "cell_type": "code",
   "execution_count": 5,
   "metadata": {},
   "outputs": [],
   "source": [
    "import chromadb\n",
    "from langchain_chroma import Chroma\n",
    "\n",
    "# LangChain の Chromadb VectorStore のインスタンスを作成\n",
    "vector_store = Chroma(\n",
    "    client=chromadb.PersistentClient(path=\"./chroma_db\"),\n",
    "    collection_name=collection_name,\n",
    "    embedding_function=embeddings,\n",
    "    collection_metadata={\"hnsw:space\": \"ip\"} \n",
    ")"
   ]
  },
  {
   "cell_type": "markdown",
   "metadata": {},
   "source": [
    "### Retrieverの準備"
   ]
  },
  {
   "cell_type": "code",
   "execution_count": 6,
   "metadata": {},
   "outputs": [],
   "source": [
    "retriever = vector_store.as_retriever(\n",
    "    search_type=\"similarity_score_threshold\",\n",
    "    search_kwargs={\"score_threshold\": 0.45, \"k\": 20}\n",
    ")"
   ]
  },
  {
   "cell_type": "markdown",
   "metadata": {},
   "source": [
    "### PromptTemplateの準備"
   ]
  },
  {
   "cell_type": "code",
   "execution_count": 7,
   "metadata": {},
   "outputs": [],
   "source": [
    "from langchain_core.prompts import ChatPromptTemplate\n",
    "\n",
    "prompt_template = ChatPromptTemplate.from_messages(\n",
    "    [\n",
    "        (\"system\", \"あなたの仕事は、human の question に答えることです。以下の手順で回答してください。前置きや思考経過は出力しないでください。context の中の source のファイル名には、page_content の主題が含まれています。最初に、 context に書かれている情報だけを使用して、question の質問に答えることができるかどうか判断してください、判断結果は出力しません。次に、context にある情報だけで回答が可能と判断した場合は、context に書かれている情報だけを使用して、question の質問に答えてください。context にある情報だけでは回答できないと判断した場合は、情報がないので回答できないと答えてください。\\n\\ncontext: {context}\"),\n",
    "        (\"human\", \"question: {input}\"),\n",
    "    ]\n",
    ")"
   ]
  },
  {
   "cell_type": "markdown",
   "metadata": {},
   "source": [
    "### RAGチェーンの準備"
   ]
  },
  {
   "cell_type": "code",
   "execution_count": 8,
   "metadata": {},
   "outputs": [],
   "source": [
    "from langchain_core.runnables import RunnablePassthrough\n",
    "\n",
    "rag_chain = (\n",
    "    {\"context\": retriever, \"input\": RunnablePassthrough()}\n",
    "    | prompt_template\n",
    "    | (lambda x: print(f\"\\n=== Generated Prompt ===\\n{x}\\n========================\\n\\n\") or x)  # プロンプトを表示\n",
    "    | llm\n",
    ")"
   ]
  },
  {
   "cell_type": "markdown",
   "metadata": {},
   "source": [
    "### 質問の定義"
   ]
  },
  {
   "cell_type": "code",
   "execution_count": 9,
   "metadata": {},
   "outputs": [],
   "source": [
    "#query=\"ハグリッドがホグワーツへの入学案内書を持ってきたのはいつですか？それはどのような日でしたか？\"\n",
    "#query=\"アメリカの初代大統領は誰ですか？\"\n",
    "#query=\"時空管理局のアースラの艦長は誰ですか？\"\n",
    "#query=\"フェイトが留学生として通った小学校は？\"\n",
    "#query=\"ユーノ・スクライアは、普段どのような動物の姿で過ごしていますか？\"\n",
    "#query=\"聖王のゆりかごとは何ですか、どのくらいの大きさですか？\"\n",
    "#query=\"スターライトブレイカーは誰のどのような魔法ですか？\"\n",
    "#query=\"高町なのはが小学生のときに通っていた学校は？\"\n",
    "query=\"フェイトが王子様キャラと言われるのはなぜ？\"\n"
   ]
  },
  {
   "cell_type": "markdown",
   "metadata": {},
   "source": [
    "### RAGの実行"
   ]
  },
  {
   "cell_type": "code",
   "execution_count": 10,
   "metadata": {},
   "outputs": [
    {
     "name": "stdout",
     "output_type": "stream",
     "text": [
      "\n",
      "=== Generated Prompt ===\n",
      "messages=[SystemMessage(content='あなたの仕事は、human の question に答えることです。以下の手順で回答してください。前置きや思考経過は出力しないでください。context の中の source のファイル名には、page_content の主題が含まれています。最初に、 context に書かれている情報だけを使用して、question の質問に答えることができるかどうか判断してください、判断結果は出力しません。次に、context にある情報だけで回答が可能と判断した場合は、context に書かれている情報だけを使用して、question の質問に答えてください。context にある情報だけでは回答できないと判断した場合は、情報がないので回答できないと答えてください。\\n\\ncontext: [Document(id=\\'10f2bdd7-1166-4308-83b1-bed36dce1007\\', metadata={\\'source\\': \\'data\\\\\\\\Wikipedia-フェイト・テスタロッサ.pdf\\'}, page_content=\\'他にも運動神経が良く接近戦が多いためかフェイト役の水樹奈々やファンなどから王子様キャラだと思われがちだが実際はレヴィにセクハラをされ、真っ赤になるなどなのはよりも女の子らしい部分があり、『The MOVIE 1st』の告知の時、キャロから「守ってあげたくなるお姫様タイプ」と言われている。\\'), Document(id=\\'3cba60dc-ef2d-4b1f-8938-0dd5d256ceaf\\', metadata={\\'source\\': \\'data\\\\\\\\Wikipedia-高町なのは.pdf\\'}, page_content=\\'「エースオブエース」、「誰もが認める無敵のエース」などと呼ばれており、管理局内のみならずミッドチルダでは雑誌に取り上げられるような有名人となっている[6]。公の場でははやてらに対して敬語を用い、フェイトに対しても「フェイト隊⻑」と呼ぶことがあるがプライベートでは「はやてちゃん」「フェイトちゃん」「クロノくん」と、10年前同様の呼称を用い続けている。\\'), Document(id=\\'77802941-083c-44be-877a-21070201b5be\\', metadata={\\'source\\': \\'data\\\\\\\\Wikipedia-フェイト・テスタロッサ.pdf\\'}, page_content=\"後にリンディ‧ハラオウンの養子になり、名前がフェイト‧T(テスタロッサ)‧ハラオウン(Fate T. Harlaown)となる。担当声優は水樹奈々。人物像第1期‧『A\\'s』時外見年齢は9歳(後述)。誕生日は5月29日。金の髪と「寂しげな目」をした[2]もう1人の魔法少女。\")]', additional_kwargs={}, response_metadata={}), HumanMessage(content='question: フェイトが王子様キャラと言われるのはなぜ？', additional_kwargs={}, response_metadata={})]\n",
      "========================\n",
      "\n",
      "\n",
      "=== LLM response ======\n",
      "content='フェイトが王子様キャラと言われるのは、運動神経が良く接近戦が多いためです。ただし、実際にはレヴィにセクハラをされて真っ赤になるなど、女の子らしい部分もあります。' additional_kwargs={'refusal': None} response_metadata={'token_usage': {'completion_tokens': 61, 'prompt_tokens': 697, 'total_tokens': 758, 'completion_tokens_details': {'accepted_prediction_tokens': 0, 'audio_tokens': 0, 'reasoning_tokens': 0, 'rejected_prediction_tokens': 0}, 'prompt_tokens_details': {'audio_tokens': 0, 'cached_tokens': 0}}, 'model_name': 'gpt-4o-2024-08-06', 'system_fingerprint': 'fp_50cad350e4', 'finish_reason': 'stop', 'logprobs': None} id='run-b0d3d1f8-2285-448d-abd9-669fe796d6d4-0' usage_metadata={'input_tokens': 697, 'output_tokens': 61, 'total_tokens': 758, 'input_token_details': {'audio': 0, 'cache_read': 0}, 'output_token_details': {'audio': 0, 'reasoning': 0}}\n",
      "========================\n",
      "\n",
      "=== 回答 ===============\n",
      "フェイトが王子様キャラと言われるのは、運動神経が良く接近戦が多いためです。ただし、実際にはレヴィにセクハラをされて真っ赤になるなど、女の子らしい部分もあります。\n",
      "========================\n",
      "\n"
     ]
    }
   ],
   "source": [
    "response = rag_chain.invoke(query)\n",
    "print(f\"=== LLM response ======\\n{response}\\n========================\\n\")\n",
    "print(f\"=== 回答 ===============\\n{response.content}\\n========================\\n\")\n"
   ]
  },
  {
   "cell_type": "code",
   "execution_count": null,
   "metadata": {},
   "outputs": [],
   "source": []
  }
 ],
 "metadata": {
  "kernelspec": {
   "display_name": "Python 3",
   "language": "python",
   "name": "python3"
  },
  "language_info": {
   "codemirror_mode": {
    "name": "ipython",
    "version": 3
   },
   "file_extension": ".py",
   "mimetype": "text/x-python",
   "name": "python",
   "nbconvert_exporter": "python",
   "pygments_lexer": "ipython3",
   "version": "3.11.9"
  }
 },
 "nbformat": 4,
 "nbformat_minor": 2
}
