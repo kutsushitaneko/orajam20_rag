{
 "cells": [
  {
   "cell_type": "code",
   "execution_count": 1,
   "metadata": {},
   "outputs": [],
   "source": [
    "from dotenv import load_dotenv, find_dotenv\n",
    "\n",
    "_ = load_dotenv(find_dotenv())"
   ]
  },
  {
   "cell_type": "code",
   "execution_count": 2,
   "metadata": {},
   "outputs": [],
   "source": [
    "chunk_size = 200\n",
    "collection_name = f\"mycollection_{chunk_size}\"\n",
    "embedding_model = \"text-embedding-3-large\"\n",
    "\n",
    "top_k = 4\n",
    "batch_size = 100\n",
    "\n",
    "query=\"高町なのはがユーノから譲り受けたものは何ですか？\""
   ]
  },
  {
   "cell_type": "markdown",
   "metadata": {},
   "source": [
    "### 埋め込みモデルの準備"
   ]
  },
  {
   "cell_type": "code",
   "execution_count": 3,
   "metadata": {},
   "outputs": [],
   "source": [
    "from langchain_openai import OpenAIEmbeddings\n",
    "\n",
    "# 埋め込みモデルの準備\n",
    "embeddings = OpenAIEmbeddings(model=embedding_model)"
   ]
  },
  {
   "cell_type": "markdown",
   "metadata": {},
   "source": [
    "### ドキュメントの読み込みとチャンキング"
   ]
  },
  {
   "cell_type": "code",
   "execution_count": 4,
   "metadata": {},
   "outputs": [],
   "source": [
    "from langchain_community.document_loaders import PDFMinerLoader, DirectoryLoader\n",
    "from langchain_text_splitters import RecursiveCharacterTextSplitter\n",
    "\n",
    "# ドキュメントの読み込み\n",
    "loader = DirectoryLoader(\n",
    "    \"./data/\",\n",
    "    glob=\"**/*.pdf\",  # PDFファイルを対象に\n",
    "    show_progress=True,\n",
    "    loader_cls=PDFMinerLoader  # PDFMinerLoaderを使用\n",
    ")"
   ]
  },
  {
   "cell_type": "code",
   "execution_count": 5,
   "metadata": {},
   "outputs": [
    {
     "name": "stderr",
     "output_type": "stream",
     "text": [
      "100%|██████████| 19/19 [00:49<00:00,  2.62s/it]"
     ]
    },
    {
     "name": "stdout",
     "output_type": "stream",
     "text": [
      "合計チャンク数: 3375\n"
     ]
    },
    {
     "name": "stderr",
     "output_type": "stream",
     "text": [
      "\n"
     ]
    }
   ],
   "source": [
    "import unicodedata\n",
    "\n",
    "# ドキュメントを Unicode正規化して分割\n",
    "documents = []\n",
    "for doc in loader.load():\n",
    "    # すべての改行を削除（単語の途中でチャンキングされることを防ぐため）\n",
    "    doc.page_content = unicodedata.normalize('NFKC', doc.page_content.replace(\"\\n\", \"\"))\n",
    "    chunks = RecursiveCharacterTextSplitter(\n",
    "        chunk_size=chunk_size,\n",
    "        chunk_overlap=chunk_size // 10,\n",
    "        separators=[\n",
    "            \"。\",\n",
    "            \"、\",\n",
    "            \" \",\n",
    "            \"」\",\n",
    "            \"）\",\n",
    "            \"｝\",\n",
    "            \"〕\",\n",
    "            \"》\"\n",
    "        ],\n",
    "        keep_separator=\"end\"\n",
    "    ).split_documents([doc])\n",
    "    documents.extend(chunks)\n",
    "\n",
    "print(f\"合計チャンク数: {len(documents)}\")"
   ]
  },
  {
   "cell_type": "code",
   "execution_count": 6,
   "metadata": {},
   "outputs": [
    {
     "name": "stdout",
     "output_type": "stream",
     "text": [
      "\n",
      "=== Document 1 ===\n",
      "Content: ハリー‧ポッター (架空の人物)出典: フリー百科事典『ウィキペディア(Wikipedia)』ハリー‧ポッターシリーズ > ハリー‧ポッターシリーズの登場人物一覧 > ハリー‧ポッター (架空の人物)ハリー‧ジェームズ‧ポッター(英: Harry JamesPotter)は、J‧K‧ローリングの小説『ハリー‧ポッター』シリーズおよび、その派生作品に登場する架空の人物であり、同シリーズの主人公。\n",
      "文字数: 198\n",
      "Source: data\\Wikipedia-ハリー・ポッター_(架空の人物).pdf\n",
      "\n",
      "=== Document 2 ===\n",
      "Content: ホグワーツ魔法魔術学校グリフィンドール寮の男子生徒となる。孤児として母親の親類の伯母夫婦の家で不遇な暮らしをして育った。11歳を迎える年のある日突然、ホグワーツから入学許可証が届いたのをきっかけに、亡くなった両親が魔法使いであったこと、そして出生時に下された予言により、闇の魔法使いヴォルデモートを倒す宿命を自分が負っていると告げられる。\n",
      "文字数: 169\n",
      "Source: data\\Wikipedia-ハリー・ポッター_(架空の人物).pdf\n",
      "\n",
      "=== Document 3 ===\n",
      "Content: マグル界では一介の少年に過ぎない生活を送っていたが、魔法界では本人が戶惑うほど重要な人物として、あまねく人々から知られている。一人前の魔法使いになるべく、同級生のロン‧ウィーズリーやハーマイオニー‧グレンジャーらとともに、ホグワーツにて学生生活を送りつつ、宿敵のヴォルデモートなどの闇の魔法使いたちによる数々の陰謀に立ち向かう冒険の日々を通して、たくましく成⻑していく姿が物語で描かれている。\n",
      "文字数: 196\n",
      "Source: data\\Wikipedia-ハリー・ポッター_(架空の人物).pdf\n",
      "\n",
      "=== Document 4 ===\n",
      "Content: 人物名前‧外見魔 法 界 で は 「 生 き 残 っ た 男 の 子   (The  boy  wholived) 」と呼ばれる。髪の毛は黒い癖毛で、瞳は明るい緑色。小顔で細面で、近視のため丸眼鏡を着用。同年代に比べ小柄で痩せているが、第6巻『謎のプリンス』では前巻と比べて身⻑がかなり伸びたとされている。\n",
      "文字数: 153\n",
      "Source: data\\Wikipedia-ハリー・ポッター_(架空の人物).pdf\n",
      "\n",
      "=== Document 5 ===\n",
      "Content: 額にはヴォルデモートの強力な呪いによってつけハリー‧ポッターHarry Potter『ハリー‧ポッター』シリーズのキャラクターハリー‧ポッターを演じるダニエル‧ラドクリフ(2009年、\n",
      "文字数: 92\n",
      "Source: data\\Wikipedia-ハリー・ポッター_(架空の人物).pdf\n"
     ]
    }
   ],
   "source": [
    "for i, doc in enumerate(documents[:5]):\n",
    "    print(f\"\\n=== Document {i+1} ===\")\n",
    "    print(f\"Content: {doc.page_content}\")\n",
    "    print(f\"文字数: {len(doc.page_content)}\")\n",
    "    print(f\"Source: {doc.metadata['source']}\")"
   ]
  },
  {
   "cell_type": "markdown",
   "metadata": {},
   "source": [
    "### VectorStoreの準備"
   ]
  },
  {
   "cell_type": "code",
   "execution_count": 7,
   "metadata": {},
   "outputs": [
    {
     "name": "stdout",
     "output_type": "stream",
     "text": [
      "既存のコレクション 'mycollection_200' は存在しませんでした\n",
      "コレクション 'mycollection_200' を作成しました\n",
      "現在のコレクション一覧:\n",
      "- mycollection_200\n",
      "コレクション 'mycollection_200' にデータをロードします\n",
      "バッチ 1 を追加しました（100件）\n",
      "バッチ 2 を追加しました（100件）\n",
      "バッチ 3 を追加しました（100件）\n",
      "バッチ 4 を追加しました（100件）\n",
      "バッチ 5 を追加しました（100件）\n",
      "バッチ 6 を追加しました（100件）\n",
      "バッチ 7 を追加しました（100件）\n",
      "バッチ 8 を追加しました（100件）\n",
      "バッチ 9 を追加しました（100件）\n",
      "バッチ 10 を追加しました（100件）\n",
      "バッチ 11 を追加しました（100件）\n",
      "バッチ 12 を追加しました（100件）\n",
      "バッチ 13 を追加しました（100件）\n",
      "バッチ 14 を追加しました（100件）\n",
      "バッチ 15 を追加しました（100件）\n",
      "バッチ 16 を追加しました（100件）\n",
      "バッチ 17 を追加しました（100件）\n",
      "バッチ 18 を追加しました（100件）\n",
      "バッチ 19 を追加しました（100件）\n",
      "バッチ 20 を追加しました（100件）\n",
      "バッチ 21 を追加しました（100件）\n",
      "バッチ 22 を追加しました（100件）\n",
      "バッチ 23 を追加しました（100件）\n",
      "バッチ 24 を追加しました（100件）\n",
      "バッチ 25 を追加しました（100件）\n",
      "バッチ 26 を追加しました（100件）\n",
      "バッチ 27 を追加しました（100件）\n",
      "バッチ 28 を追加しました（100件）\n",
      "バッチ 29 を追加しました（100件）\n",
      "バッチ 30 を追加しました（100件）\n",
      "バッチ 31 を追加しました（100件）\n",
      "バッチ 32 を追加しました（100件）\n",
      "バッチ 33 を追加しました（100件）\n",
      "バッチ 34 を追加しました（75件）\n",
      "\n",
      "合計 3375 件のドキュメントを追加しました\n"
     ]
    }
   ],
   "source": [
    "import chromadb\n",
    "from langchain_chroma import Chroma\n",
    "\n",
    "\n",
    "# Chromaクライアントを初期化\n",
    "try:\n",
    "    persistent_client = chromadb.PersistentClient(path=\"./chroma_db\")\n",
    "    # 既存のChromaコレクションを削除\n",
    "    try:\n",
    "        persistent_client.delete_collection(collection_name)\n",
    "        print(f\"既存のコレクション '{collection_name}' を削除しました\")\n",
    "    except ValueError as e:\n",
    "        print(f\"既存のコレクション '{collection_name}' は存在しませんでした\")\n",
    "    except Exception as e:\n",
    "        print(f\"コレクションの削除中にエラーが発生しました: {str(e)}\")\n",
    "\n",
    "    vector_store = Chroma(\n",
    "        client=persistent_client,\n",
    "        collection_name=collection_name,\n",
    "        embedding_function=embeddings,\n",
    "        collection_metadata={\"hnsw:space\": \"ip\"} \n",
    "    )\n",
    "    print(f\"コレクション '{collection_name}' を作成しました\")\n",
    "\n",
    "    collections = persistent_client.list_collections()\n",
    "    print(\"現在のコレクション一覧:\")\n",
    "    for collection in collections:\n",
    "        print(f\"- {collection.name}\")\n",
    "\n",
    "    # ドキュメントをバッチで追加\n",
    "    print(f\"コレクション '{collection_name}' にデータをロードします\")\n",
    "    total_added = 0\n",
    "    for i in range(0, len(documents), batch_size):\n",
    "        batch = documents[i:i + batch_size]\n",
    "        vector_store.add_documents(documents=batch, embedding=embeddings)\n",
    "        total_added += len(batch)\n",
    "        print(f\"バッチ {i//batch_size + 1} を追加しました（{len(batch)}件）\")\n",
    "    \n",
    "    print(f\"\\n合計 {total_added} 件のドキュメントを追加しました\")\n",
    "\n",
    "except Exception as e:\n",
    "    print(f\"Chromaデータベースの操作中にエラーが発生しました: {str(e)}\")\n"
   ]
  },
  {
   "cell_type": "markdown",
   "metadata": {},
   "source": [
    "### ベクトル検索のテスト"
   ]
  },
  {
   "cell_type": "code",
   "execution_count": 8,
   "metadata": {},
   "outputs": [],
   "source": [
    "result = vector_store.similarity_search(query, k=top_k)"
   ]
  },
  {
   "cell_type": "code",
   "execution_count": 9,
   "metadata": {},
   "outputs": [
    {
     "name": "stdout",
     "output_type": "stream",
     "text": [
      "\n",
      "=== 検索結果 1 ===\n",
      "Content: 敵対していたフェイトやヴィータなどの人物とも、幾度となく互いの信念をかけた戦いを繰り返した結果、最終的には分かり合うことが出来ており、彼女達と良き友となっている。使用デバイス(魔法の杖)はインテリジェントデバイス「レイジングハート」。ユーノから譲り受けたものだが、彼がこのデバイスを手に入れた経緯は不明。\n",
      "文字数: 152\n",
      "Source: data\\Wikipedia-高町なのは.pdf\n",
      "\n",
      "=== 検索結果 2 ===\n",
      "Content: 彼がこの世界に来た理由。それは彼が発掘したロストロギア(異世界に存在した高度な魔法技術の遺産)「ジュエルシード」が散らばってしまったためであった。成り行きから事情を知ったなのはは、ユーノと共にジュエルシードを集め、封印する手伝いをすることになる。そして次第になのははユーノだけではなく、自分のために魔法の世界に関わっていく決意を固め、その秘めた力を開花させていく。\n",
      "文字数: 182\n",
      "Source: data\\Wikipedia-魔法少女リリカルなのは.pdf\n",
      "\n",
      "=== 検索結果 3 ===\n",
      "Content: 新たなリーダーとなったひめなは静香に手を組むことを持ちかけるが拒否される。ひめなの指示のもと、羽根の神楽燦と遊狩ミユリがちはるの腕を切り落とし、石を強奪する。那由他は伯父である灯花の父に手はずを整えてもらい、同じく父の行方を探っている離婚した母と再会。父に関する調査資料を入手し、「湯国市」に手がかりがあるとわかって行動しようとする。\n",
      "文字数: 167\n",
      "Source: data\\Wikipedia-マギアレコード_魔法少女まどか☆マギカ外伝.pdf\n",
      "\n",
      "=== 検索結果 4 ===\n",
      "Content: ストーリー自称平凡な小学3年生、高町なのはは助けを求める声に導かれ、不思議なフェレットが負傷し倒れているところを発見、保護する。その夜、再び声が響きフェレットを預かっている動物病院に向かうとそこで異形の怪物がフェレットと対峙する場面に出くわす。彼の正体は異世界ミッドチルダからやってきた少年ユーノ‧スクライアだった。彼がこの世界に来た理由。\n",
      "文字数: 170\n",
      "Source: data\\Wikipedia-魔法少女リリカルなのは.pdf\n"
     ]
    }
   ],
   "source": [
    "for i, doc in enumerate(result[:top_k]):\n",
    "    print(f\"\\n=== 検索結果 {i+1} ===\")\n",
    "    print(f\"Content: {doc.page_content}\")\n",
    "    print(f\"文字数: {len(doc.page_content)}\")\n",
    "    print(f\"Source: {doc.metadata['source']}\")"
   ]
  },
  {
   "cell_type": "code",
   "execution_count": null,
   "metadata": {},
   "outputs": [],
   "source": []
  },
  {
   "cell_type": "code",
   "execution_count": null,
   "metadata": {},
   "outputs": [],
   "source": []
  }
 ],
 "metadata": {
  "kernelspec": {
   "display_name": ".venv",
   "language": "python",
   "name": "python3"
  },
  "language_info": {
   "codemirror_mode": {
    "name": "ipython",
    "version": 3
   },
   "file_extension": ".py",
   "mimetype": "text/x-python",
   "name": "python",
   "nbconvert_exporter": "python",
   "pygments_lexer": "ipython3",
   "version": "3.11.9"
  }
 },
 "nbformat": 4,
 "nbformat_minor": 2
}
