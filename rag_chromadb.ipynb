{
 "cells": [
  {
   "cell_type": "code",
   "execution_count": 1,
   "metadata": {},
   "outputs": [],
   "source": [
    "import os\n",
    "from dotenv import load_dotenv, find_dotenv\n",
    "\n",
    "_ = load_dotenv(find_dotenv())"
   ]
  },
  {
   "cell_type": "code",
   "execution_count": 2,
   "metadata": {},
   "outputs": [
    {
     "name": "stdout",
     "output_type": "stream",
     "text": [
      "検索対象のコレクション名: mycollection_200\n"
     ]
    }
   ],
   "source": [
    "chunk_size = 200\n",
    "search_ef = 0 # 0 for default, recommend 100\n",
    "\n",
    "if search_ef == 0:\n",
    "    collection_name = f\"mycollection_{chunk_size}\"\n",
    "else:\n",
    "    collection_name = f\"mycollection_{chunk_size}_ef_{search_ef}\"\n",
    "\n",
    "print(f\"検索対象のコレクション名: {collection_name}\")\n",
    "\n",
    "model = \"gpt-4o\"\n",
    "embedding_model = \"text-embedding-3-large\"\n",
    "temperature = 0\n",
    "\n",
    "top_k = 30\n",
    "\n",
    "# 検索タイプ - similarity\n",
    "search_type=\"similarity\"\n",
    "\n",
    "# 検索タイプ - similarity_score_threshold\n",
    "#search_type=\"similarity_score_threshold\"\n",
    "score_threshold = 0.3\n",
    "\n",
    "# 検索タイプ - mmr\n",
    "#search_type=\"mmr\" # for mmr\n",
    "fetch_k = top_k * 2 # for mmr : Amount of documents to pass to MMR algorithm\n",
    "lambda_mult = 1.0 # for mmr : 1 for minimum diversity and 0 for maximum. (Default: 0.5)\n"
   ]
  },
  {
   "cell_type": "markdown",
   "metadata": {},
   "source": [
    "### LLMと埋め込みモデルの準備"
   ]
  },
  {
   "cell_type": "code",
   "execution_count": 3,
   "metadata": {},
   "outputs": [],
   "source": [
    "from langchain_openai import ChatOpenAI\n",
    "from langchain_openai import OpenAIEmbeddings\n",
    "\n",
    "# LLMの準備\n",
    "llm = ChatOpenAI(\n",
    "    model=model, # モデル\n",
    "    temperature=temperature, # ランダムさ\n",
    ")\n",
    "\n",
    "# 埋め込みモデルの準備\n",
    "embeddings = OpenAIEmbeddings(model=embedding_model)"
   ]
  },
  {
   "cell_type": "markdown",
   "metadata": {},
   "source": [
    "### VectorStoreの準備"
   ]
  },
  {
   "cell_type": "code",
   "execution_count": 4,
   "metadata": {},
   "outputs": [
    {
     "name": "stdout",
     "output_type": "stream",
     "text": [
      "現在のコレクション一覧:\n",
      "- mycollection_100\n",
      "- mycollection_200_ef_100\n",
      "- mycollection_500_ef_100\n",
      "- mycollection_1000\n",
      "- mycollection_200\n",
      "- mycollection_500\n",
      "コレクション mycollection_200 のインスタンスを作成しました\n"
     ]
    }
   ],
   "source": [
    "import chromadb\n",
    "from langchain_chroma import Chroma\n",
    "\n",
    "\n",
    "# Chromaクライアントを初期化\n",
    "try:\n",
    "    persistent_client = chromadb.PersistentClient(path=\"./chroma_db\")\n",
    "\n",
    "    collections = persistent_client.list_collections()\n",
    "    print(\"現在のコレクション一覧:\")\n",
    "    for collection in collections:\n",
    "        print(f\"- {collection.name}\")\n",
    "\n",
    "    vector_store = Chroma(\n",
    "        client=persistent_client,\n",
    "        collection_name=collection_name,\n",
    "        embedding_function=embeddings,\n",
    "        collection_metadata={\"hnsw:space\": \"ip\"} \n",
    "    )\n",
    "    print(f\"コレクション {collection_name} のインスタンスを作成しました\")\n",
    "\n",
    "except Exception as e:\n",
    "    print(f\"Chromaデータベースの操作中にエラーが発生しました: {str(e)}\")\n"
   ]
  },
  {
   "cell_type": "markdown",
   "metadata": {},
   "source": [
    "### Retrieverの準備"
   ]
  },
  {
   "cell_type": "code",
   "execution_count": 5,
   "metadata": {},
   "outputs": [],
   "source": [
    "# Retrieverの準備\n",
    "if search_type == \"similarity\":\n",
    "    retriever = vector_store.as_retriever(\n",
    "        search_type=search_type,\n",
    "        search_kwargs={\"k\": top_k}\n",
    "    )\n",
    "elif search_type == \"similarity_score_threshold\":\n",
    "    retriever = vector_store.as_retriever(\n",
    "        search_type=search_type,\n",
    "        search_kwargs={\"score_threshold\": score_threshold, \"k\": top_k}\n",
    "    )\n",
    "elif search_type == \"mmr\":\n",
    "    retriever = vector_store.as_retriever(\n",
    "        search_type=search_type,\n",
    "        search_kwargs={\"k\": top_k, \"fetch_k\": fetch_k, \"lambda_mult\": lambda_mult}\n",
    "    )\n",
    "else:\n",
    "    raise ValueError(f\"サポートされていないsearch_type: {search_type}。'similarity'または'similarity_score_threshold'を使用してください。\")"
   ]
  },
  {
   "cell_type": "markdown",
   "metadata": {},
   "source": [
    "### PromptTemplateの準備"
   ]
  },
  {
   "cell_type": "code",
   "execution_count": 6,
   "metadata": {},
   "outputs": [],
   "source": [
    "from langchain_core.prompts import ChatPromptTemplate\n",
    "\n",
    "# PromptTemplateの準備\n",
    "prompt_template = ChatPromptTemplate.from_messages(\n",
    "    [\n",
    "        (\"system\", \"あなたの仕事は、human の question に答えることです。以下の手順で回答してください。前置きや思考経過は出力しないでください。context の中の source のファイル名には、page_content の主題が含まれています。最初に、 context に書かれている情報だけを使用して、question の質問に答えることができるかどうか判断してください、判断結果は出力しません。次に、context にある情報だけで回答が可能と判断した場合は、context に書かれている情報だけを使用して、question の質問に答えてください。context にある情報だけでは回答できないと判断した場合は、情報がないので回答できないと答えてください。\\n\\ncontext: {context}\"),\n",
    "        (\"human\", \"question: {input}\"),\n",
    "    ]\n",
    ")"
   ]
  },
  {
   "cell_type": "markdown",
   "metadata": {},
   "source": [
    "### RAGチェーンの準備"
   ]
  },
  {
   "cell_type": "code",
   "execution_count": 7,
   "metadata": {},
   "outputs": [],
   "source": [
    "from langchain_core.runnables import RunnablePassthrough\n",
    "\n",
    "# RAGチェーンの準備\n",
    "rag_chain = (\n",
    "    {\"context\": retriever, \"input\": RunnablePassthrough()}\n",
    "    | prompt_template\n",
    "    | (lambda x: print(f\"\\n=== Generated Prompt ===\\n{x}\\n========================\\n\") or x)  # プロンプトを表示\n",
    "    | llm\n",
    ")"
   ]
  },
  {
   "cell_type": "markdown",
   "metadata": {},
   "source": [
    "### 質問応答"
   ]
  },
  {
   "cell_type": "code",
   "execution_count": 8,
   "metadata": {},
   "outputs": [
    {
     "name": "stdout",
     "output_type": "stream",
     "text": [
      "\n",
      "=== Generated Prompt ===\n",
      "messages=[SystemMessage(content=\"あなたの仕事は、human の question に答えることです。以下の手順で回答してください。前置きや思考経過は出力しないでください。context の中の source のファイル名には、content の主題が含まれています。最初に、 context に書かれている情報だけを使用して、question の質問に答えることができるかどうか判断してください、判断結果は出力しません。次に、context にある情報だけで回答が可能と判断した場合は、context に書かれている情報だけを使用して、question の質問に答えてください。context にある情報だけでは回答できないと判断した場合は、情報がないので回答できないと答えてください。\\n\\ncontext: [Document(metadata={'source': 'data\\\\\\\\Wikipedia-ハリー・ポッター_(架空の人物).pdf'}, page_content='しかし、ダーズリー家は魔法に対して、かたくななまでに否定的な態度を取っており、ハリーは両親や⾃分が魔法使いであることを知らされないまま、伯⺟⼀家の冷遇と虐待を受けながら育った。1991年7⽉31⽇（ハリーの11歳の誕⽣⽇）、ホグワーツ魔法魔術学校への⼊学案内書を⼿にやってきたルビウス‧ハグリッドから⾃⾝が魔法使いであることを知らされる。そして9⽉1⽇、ホグワーツ魔法魔術学校に⼊学する[注 4]。'), Document(metadata={'source': 'data\\\\\\\\Wikipedia-ハリー・ポッター_(架空の人物).pdf'}, page_content='ホグワーツ魔法魔術学校グリフィンドール寮の男⼦⽣徒となる。孤児として⺟親の親類の伯⺟夫婦の家で不遇な暮らしをして育った。11歳を迎える年のある⽇突然、ホグワーツから⼊学許可証が届いたのをきっかけに、亡くなった両親が魔法使いであったこと、そして出⽣時に下された予⾔により、闇の魔法使いヴォルデモートを倒す宿命を⾃分が負っていると告げられる。'), Document(metadata={'source': 'data\\\\\\\\Wikipedia-ロン・ウィーズリー.pdf'}, page_content='その後、ホグワーツ魔法魔術学校に⼊学し、ハリー同様グリフィンドール寮⽣となる。種族性別家族1992年夏、ハリーを⾃宅に迎えるため、⽗の所有するフォード‧アングリアを借りて、フレッド、ジョージとともにダーズリー家を訪問。軟禁されていたハリーを救出する。'), Document(metadata={'source': 'data\\\\\\\\Wikipedia-ロン・ウィーズリー.pdf'}, page_content='軟禁されていたハリーを救出する。同年9⽉1⽇にはドビーによりホグワーツ特急に乗⾞できなかったため、ふたたびフォード‧アングリアを借りてハリーとともにホグワーツへ向かうが、ホグワーツ到着時に暴れ柳から攻撃を受け、杖が折れる。'), Document(metadata={'source': 'data\\\\\\\\Wikipedia-ロン・ウィーズリー.pdf'}, page_content='キングズ‧クロス駅でハリー‧ポッターと初対⾯し、ホグワーツ特急内で意気投合する。'), Document(metadata={'source': 'data\\\\\\\\Wikipedia-ハーマイオニー・グレンジャー.pdf'}, page_content='1991年9⽉1⽇、ホグワーツ魔法魔術学校に⼊学、グリフィンドール寮⽣となる。10⽉31⽇、ハーマイオニーには友達がいないというロンの陰⼝を偶然聞き、ショックでハロウィーン‧パーティーを⽋席。トイレに隠れて泣いていたところをトロールに襲撃されるが、ハリーとロンに\\\\x0c救出され、以降、ふたりと親友になる。1992年、賢者の⽯を守る薬の論理パズルを解き、校⻑のアルバス‧ダンブルドアより50点を獲得する。'), Document(metadata={'source': 'data\\\\\\\\Wikipedia-ハリー・ポッター_(架空の人物).pdf'}, page_content='マグル界では⼀介の少年に過ぎない⽣活を送っていたが、魔法界では本⼈が⼾惑うほど重要な⼈物として、あまねく⼈々から知られている。⼀⼈前の魔法使いになるべく、同級⽣のロン‧ウィーズリーやハーマイオニー‧グレンジャーらとともに、ホグワーツにて学⽣⽣活を送りつつ、宿敵のヴォルデモートなどの闇の魔法使いたちによる数々の陰謀に⽴ち向かう冒険の⽇々を通して、たくましく成⻑していく姿が物語で描かれている。'), Document(metadata={'source': 'data\\\\\\\\Wikipedia-ハーマイオニー・グレンジャー.pdf'}, page_content='シリーズ全巻に登場する主要キャラクターのひとり。ホグワーツ魔法魔術学校グリフィンドール寮に所属し、主⼈公で同学年のハリー‧ポッター、もうひとりの同級⽣ロン‧ウィーズリーと親友になり、いつも三⼈で⾏動し、さまざまな問題を解決していく。マグル（魔法を使えない、普通の⼈間）の両親のもとに⽣まれた、いわゆる「マグル⽣まれ」の魔⼥である。'), Document(metadata={'source': 'data\\\\\\\\Wikipedia-ハリー・ポッター_(架空の人物).pdf'}, page_content='また両親を知る⼈物からは、外⾒は⽗の⽣き写しだが、アーモンド状の緑の⽬だけは⺟の⽬だと⾔われる。種族性別家族来歴1980年7⽉31⽇、ゴドリックの⾕に住む魔法族のポッター家に、⻑男として⽣まれる。'), Document(metadata={'source': 'data\\\\\\\\Wikipedia-ハリー・ポッター_(架空の人物).pdf'}, page_content='しかし、のちにシリウス本⼈から両親の死についての真実を明かされ、誤解が解ける。4年⽣ - ハリー‧ポッターと炎のゴブレット「三⼤魔法学校対抗試合」に、本来ならばありえない「4⼈⽬の代表者」として参加。ホグワーツ代表のセドリック‧ディゴリーと同時優勝を果たす。その後、ハリーとセドリッ\\\\x0cクはヴォルデモートの復活を⽬撃する。'), Document(metadata={'source': 'data\\\\\\\\Wikipedia-ハリー・ポッター_(架空の人物).pdf'}, page_content='1年⽣ - ハリー‧ポッターと賢者の⽯賢者の⽯の⼒による復活をもくろんだヴォルデモートから⽯を守る。2年⽣ - ハリー‧ポッターと秘密の部屋スリザリンの怪物を退治し、「秘密の部屋」事件を解決に導く。その功績から、ロン‧ウィーズリーとともにホグワーツ特別功労賞を贈られる。3年⽣ - ハリー‧ポッターとアズカバンの囚⼈アズカバンから脱獄したシリウス‧ブラックに命を狙われる。'), Document(metadata={'source': 'data\\\\\\\\Wikipedia-ロン・ウィーズリー.pdf'}, page_content='普段は恐れている教授セブルス‧スネイプが授業中にハーマイオニーを知ったかぶりと形容すると猛然と抗議したり、ハーマイオニーが魔法界では常識はずれな屋敷しもべ妖精福祉振興協会の活動を始めると、⽣粋の魔法界育ちとしてその活動を奇妙であると感じながらもおとなしく協⼒する。このほか、ルビウス‧ハグリッド、ネビル‧ロングボトム、シェーマス‧フィネガン、ディーン‧トーマス、ルーナ‧ラブグッドなどと友⼈になる。'), Document(metadata={'source': 'data\\\\\\\\Wikipedia-ハリー・ポッター_(架空の人物).pdf'}, page_content='組分け帽⼦にも「スリザリンに⼊れば君は⼤成する」と⾔われ、スリザリンに組分けされそうになるが[注 6]、ロンからスリザリン出⾝者は闇の魔法使いが多いことを聞き、嫌悪するドラコ‧マルフォイがスリザリンに⼊ったため、組分け帽⼦にスリザリンへの⼊寮拒否を希望し、グリフィンドール⽣となる。才能学問はあまり好まないため教科によってむらがあるが、ほとんどで成績は平均よりも良好。'), Document(metadata={'source': 'data\\\\\\\\Wikipedia-ロン・ウィーズリー.pdf'}, page_content='シリーズ全巻に登場する主要キャラクターのひとり。ホグワーツ魔法魔術学校グリフィンドール寮に所属し、主⼈公で同学年のハリー‧ポッター、もうひとりの同級⽣ハーマイオニー‧グレンジャーと親友になり、いつも三⼈で⾏動する。魔法界で純⾎家系の両親のもとに⽣まれ育った⽣粋の魔法使いという設定で、個性豊かな魔法使い⼀家の末息⼦として描かれ、ハリーや読者にとって魔法界を知るための情報源となる。'), Document(metadata={'source': 'data\\\\\\\\Wikipedia-ロン・ウィーズリー.pdf'}, page_content='第5巻ではハリーへ不信感をあらわにする同級⽣たちに対し、ハリーに味⽅して抗弁し、終盤では魔法省へハリーが⾏くことは得策ではないと考えるも、⾃分の意思を曲げて⼀緒に乗り込む。貧しい家に住むが学校の休暇のたびにハリーを実家に招待して同じ部屋に泊まらせ、家族のいないハリーにとってかけがえのない温かいくつろぎの場所としてみずからの家庭を共有する。'), Document(metadata={'source': 'data\\\\\\\\Wikipedia-ロン・ウィーズリー.pdf'}, page_content='ハリーが魔法界で有名⼈であること⾃体は肯定的にとらえて羨望し、そのため第4巻『炎のゴブレット』では、ハリーが⾃分に黙って有名⼈の虚栄⼼から年齢制限を破り、ゴブレットに名前を⼊れたと誤解してなじり、⼀時的に絶交状態におちいる。しかしハーマイオニーを介して課題解決には協⼒し、その後ハリーが第1の課題をクリアしたとき、陰謀である事実を受け⼊れて和解する。'), Document(metadata={'source': 'data\\\\\\\\Wikipedia-ロン・ウィーズリー.pdf'}, page_content='その後、第3巻終盤でスキャバーズを失うが、シリウス‧ブラックからふくろうをもらい、ピッグウィジョンと名付けて飼うようになる。命名はジニーによるもの。クィディッチ⽤箒（ほうき）監督⽣に選ばれた祝いに、同系クラスとしては当時最新型のクリーンスイープ11号を買ってもらう。腕時計魔法界における成⼈年齢である17歳の誕⽣⽇に、両親から贈られる新品。'), Document(metadata={'source': 'data\\\\\\\\Wikipedia-ハリー・ポッター_(架空の人物).pdf'}, page_content='⼀⽅で当のハリーは、⺟の⾎縁と同居すれば⺟の⾎の守りが継続するというダンブルドアの計らいで、伯⺟ペチュニア‧ダーズリーの家に預けられ、以降、17歳（魔法界の成⼈年齢）になるまで伯⺟⼀家と同居することになる（住所はサレー州リトル‧ウィンジング[注 3]、プリベット通り四番地）。'), Document(metadata={'source': 'data\\\\\\\\Wikipedia-ハーマイオニー・グレンジャー.pdf'}, page_content='9. ^ J.K.ローリング ワールド‧ブックデイ‧オンライン‧チャット - ポッターマニア (http://www.pottermania.jp/info/event/log2004/JKROnlinechat0304JP.htm)10. ^ “⼩野賢章、'), Document(metadata={'source': 'data\\\\\\\\Wikipedia-ハリー・ポッター_(架空の人物).pdf'}, page_content='詳細情報魔法族（半純⾎）男性ジェームズ‧ポッター（⽗）リリー‧ポッター（⺟）バーノン‧ダーズリー（伯⽗）ペチュニア‧ダーズリー（伯⺟）ダドリー‧ダーズリー（従兄）1981年10⽉31⽇[注 2]、ポッター家をヴォルデモートが襲撃する。'), Document(metadata={'source': 'data\\\\\\\\Wikipedia-魔法科高校の劣等生.pdf'}, page_content='ベルリン⼤学で教授を務めており、魔法の平和利⽤に取り組んでいる。政府の強い要請で⼗三使徒に名を連ねるが、戦略級魔法師の中では例外的に軍と距離を置いている。2097年4⽉3⽇に、ベルリン⼤学で発⽣した魔法師排斥派の学⽣と魔法師共存派の学⽣のデモをモニター越しに苦々しく⾒ていたところに、旧知のマクロードからイギリスへの亡命を打診されるが、何か裏があると判断して断る。'), Document(metadata={'source': 'data\\\\\\\\Wikipedia-ハーマイオニー・グレンジャー.pdf'}, page_content='実際、勉学に対する努⼒は惜しまず、3年次には逆転時計を使⽤して、授業時間が重複する科⽬をすべて履修するといったこともする（⼼⾝の負担などから4年次以降は⼀部の科⽬の履修を⽌め、授業時間が重複することはなくなる）。そうした努⼒の結果、学年1位の成績を修め続け、ホグワーツの多くの教授からその才能を賞賛される。'), Document(metadata={'source': 'data\\\\\\\\Wikipedia-ロン・ウィーズリー.pdf'}, page_content='J‧K‧ローリングの⼩説『ハリー‧ポッター』シリーズ及びその派⽣作品に登場する架空の⼈物。'), Document(metadata={'source': 'data\\\\\\\\Wikipedia-八神はやて.pdf'}, page_content='当時9歳[2]。誕⽣⽇は6⽉4⽇。魔導師ランクは、この時点での主要登場⼈物中最⾼位のSクラス。⼩学校は⾜の障害のため休学中。とある偶然からなのはの親友であるすずかと市⽴図書館で知り合い、意気投合して親しい友⼈となる。'), Document(metadata={'source': 'data\\\\\\\\Wikipedia-ハリー・ポッター_(架空の人物).pdf'}, page_content='ルビウス‧ハグリッド（ハリーの魔法界および魔法族においての最初の知⼈‧友⼈）ネビル‧ロングボトムシェーマス‧フィネガン（第5巻で⼀時仲違いするが、のちに和解）ディーン‧トーマスパーバティ‧パチル（第4巻で、'), Document(metadata={'source': 'data\\\\\\\\Wikipedia-ハリー・ポッター_(架空の人物).pdf'}, page_content='ヴォルデモートを倒したことで杖の本体を⼿に⼊れるが（忠誠⼼はそれ以前に得ていた）、ハリーはこの杖で⾃分の杖を直した後、ダンブルドアの墓に戻す（映画版では決戦後、杖をへし折って捨てる）。ペットヘドウィグハリーが初めてダイアゴン横丁を訪れた際に、ハグリッドにイーロップのふくろう百貨店で誕⽣⽇プレゼントとして買ってもらい、飼うようになる⽩ふくろう。'), Document(metadata={'source': 'data\\\\\\\\Wikipedia-ロン・ウィーズリー.pdf'}, page_content='同年、⽗がガリオンくじに当選し、⼀家でエジプト旅⾏に⾏き、新しい杖も買ってもらう。1995年、ハーマイオニーとともに監督⽣に選ばれる。また寮対抗クィディッチ試合のグリフィンドール代表チームのキーパーになる。1996年、ハリー、ハーマイオニー、ネビル‧ロングボトム、ジニー‧ウィーズリー、ルーナ‧ラブグッドとともに魔法省神秘部に潜⼊。待ち構えていた死喰い⼈と戦闘になる。'), Document(metadata={'source': 'data\\\\\\\\Wikipedia-ハリー・ポッター_(架空の人物).pdf'}, page_content='忍びの地図ムーニー、ワームテール、パッドフット、プロングズの4名の⼿で作られた、ホグワーツ城と学校の敷地全体の地図。3年時に、フレッドとジョージ‧ウィーズリーから贈られる。ブラック家の遺産シリウスの死後、その遺⾔により相続する。ブラック邸ロンドン市グリモールド‧プレイス12番地にある、ブラック家の屋敷。クリーチャーブラック家に仕える屋敷しもべ妖精。'), Document(metadata={'source': 'data\\\\\\\\Wikipedia-ハーマイオニー・グレンジャー.pdf'}, page_content='屋敷しもべ妖精福祉振興協会を設⽴する。また同年、三⼤魔法学校対抗試合のためにホグワーツ校を訪れたビクトール‧クラムからクリスマス‧ダンスパーティーのパートナー（実質的な男⼥交際）を申し込まれ、彼がホグワーツを去るまで交際する。1995年、ロンとともにグリフィンドール寮の監督⽣に就任する。またハリーをリーダーとした「闇の魔術に対する防衛術」の学習組織を提案、ダンブルドア軍団の設⽴に成功する。'), Document(metadata={'source': 'data\\\\\\\\Wikipedia-ロン・ウィーズリー.pdf'}, page_content='ハリーとともに⾏動するためにたびたび⾃分や家族が重傷を負うが、そのことでハリーを恨んだり愚痴を⾔ったりすることはいっさいない。ハーマイオニーに対しては、⼊学当初はお節介な彼⼥にいい印象を持たないが、第1巻で彼⼥がトロールに襲われているところをハリーとともに助けたことがきっかけで、親しくなる。')]\", additional_kwargs={}, response_metadata={}), HumanMessage(content='question: ハグリッドがホグワーツへの入学案内書を持ってきたのはいつですか？それはどのような日でしたか？', additional_kwargs={}, response_metadata={})]\n",
      "========================\n",
      "\n",
      "=== LLM response ======\n",
      "content='1991年7月31日、ハリーの11歳の誕生日に、ハグリッドがホグワーツへの入学案内書を持ってきました。' additional_kwargs={'refusal': None} response_metadata={'token_usage': {'completion_tokens': 40, 'prompt_tokens': 5217, 'total_tokens': 5257, 'completion_tokens_details': {'accepted_prediction_tokens': 0, 'audio_tokens': 0, 'reasoning_tokens': 0, 'rejected_prediction_tokens': 0}, 'prompt_tokens_details': {'audio_tokens': 0, 'cached_tokens': 3328}}, 'model_name': 'gpt-4o-2024-08-06', 'system_fingerprint': 'fp_a79d8dac1f', 'finish_reason': 'stop', 'logprobs': None} id='run-5395528c-e7f3-4f72-aef1-d639dae2d47b-0' usage_metadata={'input_tokens': 5217, 'output_tokens': 40, 'total_tokens': 5257, 'input_token_details': {'audio': 0, 'cache_read': 3328}, 'output_token_details': {'audio': 0, 'reasoning': 0}}\n",
      "========================\n",
      "\n",
      "=== 回答 ===============\n",
      "1991年7月31日、ハリーの11歳の誕生日に、ハグリッドがホグワーツへの入学案内書を持ってきました。\n",
      "========================\n",
      "\n"
     ]
    }
   ],
   "source": [
    "# テスト用の質問\n",
    "query=\"ハグリッドがホグワーツへの入学案内書を持ってきたのはいつですか？それはどのような日でしたか？\"\n",
    "#query=\"鹿目まどかの武器は？\"\n",
    "# 質問応答\n",
    "response = rag_chain.invoke(query)\n",
    "print(f\"=== LLM response ======\\n{response}\\n========================\\n\")\n",
    "print(f\"=== 回答 ===============\\n{response.content}\\n========================\\n\")\n"
   ]
  },
  {
   "cell_type": "markdown",
   "metadata": {},
   "source": [
    "## ソースつきのRAGの作成"
   ]
  },
  {
   "cell_type": "markdown",
   "metadata": {},
   "source": [
    "### ソース付きRAGチェーンの準備"
   ]
  },
  {
   "cell_type": "code",
   "execution_count": 9,
   "metadata": {},
   "outputs": [],
   "source": [
    "from langchain_core.output_parsers import StrOutputParser\n",
    "from langchain_core.runnables import RunnablePassthrough\n",
    "\n",
    "# コンテキストのフォーマット\n",
    "def format_docs(docs):\n",
    "    return \"\\n\\n\".join(f\"{doc}\" for doc in docs)\n",
    "\n",
    "\n",
    "# Generationチェーンの準備\n",
    "gemeration_chain = (\n",
    "    RunnablePassthrough.assign(context=(lambda x: format_docs(x[\"context\"])))\n",
    "    | prompt_template\n",
    "    #| (lambda x: print(f\"\\n=== Generated Prompt ===\\n{x}\") or x)  # プロンプトを表示\n",
    "    | llm\n",
    "    | StrOutputParser()\n",
    ")\n",
    "\n",
    "# Retrieverチェーンの準備\n",
    "retrieve_chain = (lambda x: x[\"input\"]) | retriever\n",
    "\n",
    "# ソース付きRAGチェーンの準備\n",
    "rag_chain_with_source = RunnablePassthrough.assign(context=retrieve_chain).assign(\n",
    "    answer=gemeration_chain\n",
    ")"
   ]
  },
  {
   "cell_type": "markdown",
   "metadata": {},
   "source": [
    "### 質問応答"
   ]
  },
  {
   "cell_type": "code",
   "execution_count": 10,
   "metadata": {},
   "outputs": [
    {
     "name": "stdout",
     "output_type": "stream",
     "text": [
      "質問: ハグリッドがホグワーツへの入学案内書を持ってきたのはいつですか？それはどのような日でしたか？\n",
      "\n",
      "回答: 1991年7月31日、ハリーの11歳の誕生日に、ハグリッドがホグワーツへの入学案内書を持ってきました。\n",
      "\n",
      "参照コンテキスト:\n",
      "\n",
      "--- ドキュメント 1 ---\n",
      "ソース: data\\Wikipedia-ハリー・ポッター_(架空の人物).pdf\n",
      "文字数: 199\n",
      "内容: しかし、ダーズリー家は魔法に対して、かたくななまでに否定的な態度を取っており、ハリーは両親や⾃分が魔法使いであることを知らされないまま、伯⺟⼀家の冷遇と虐待を受けながら育った。1991年7⽉31⽇（ハリーの11歳の誕⽣⽇）、ホグワーツ魔法魔術学校への⼊学案内書を⼿にやってきたルビウス‧ハグリッドから⾃⾝が魔法使いであることを知らされる。そして9⽉1⽇、ホグワーツ魔法魔術学校に⼊学する[注 4]。...\n",
      "\n",
      "--- ドキュメント 2 ---\n",
      "ソース: data\\Wikipedia-ハリー・ポッター_(架空の人物).pdf\n",
      "文字数: 169\n",
      "内容: ホグワーツ魔法魔術学校グリフィンドール寮の男⼦⽣徒となる。孤児として⺟親の親類の伯⺟夫婦の家で不遇な暮らしをして育った。11歳を迎える年のある⽇突然、ホグワーツから⼊学許可証が届いたのをきっかけに、亡くなった両親が魔法使いであったこと、そして出⽣時に下された予⾔により、闇の魔法使いヴォルデモートを倒す宿命を⾃分が負っていると告げられる。...\n",
      "\n",
      "--- ドキュメント 3 ---\n",
      "ソース: data\\Wikipedia-ロン・ウィーズリー.pdf\n",
      "文字数: 125\n",
      "内容: その後、ホグワーツ魔法魔術学校に⼊学し、ハリー同様グリフィンドール寮⽣となる。種族性別家族1992年夏、ハリーを⾃宅に迎えるため、⽗の所有するフォード‧アングリアを借りて、フレッド、ジョージとともにダーズリー家を訪問。軟禁されていたハリーを救出する。...\n",
      "\n",
      "--- ドキュメント 4 ---\n",
      "ソース: data\\Wikipedia-ロン・ウィーズリー.pdf\n",
      "文字数: 111\n",
      "内容: 軟禁されていたハリーを救出する。同年9⽉1⽇にはドビーによりホグワーツ特急に乗⾞できなかったため、ふたたびフォード‧アングリアを借りてハリーとともにホグワーツへ向かうが、ホグワーツ到着時に暴れ柳から攻撃を受け、杖が折れる。...\n",
      "\n",
      "--- ドキュメント 5 ---\n",
      "ソース: data\\Wikipedia-ロン・ウィーズリー.pdf\n",
      "文字数: 40\n",
      "内容: キングズ‧クロス駅でハリー‧ポッターと初対⾯し、ホグワーツ特急内で意気投合する。...\n",
      "\n",
      "--- ドキュメント 6 ---\n",
      "ソース: data\\Wikipedia-ハーマイオニー・グレンジャー.pdf\n",
      "文字数: 199\n",
      "内容: 1991年9⽉1⽇、ホグワーツ魔法魔術学校に⼊学、グリフィンドール寮⽣となる。10⽉31⽇、ハーマイオニーには友達がいないというロンの陰⼝を偶然聞き、ショックでハロウィーン‧パーティーを⽋席。トイレに隠れて泣いていたところをトロールに襲撃されるが、ハリーとロンに\f救出され、以降、ふたりと親友になる。1992年、賢者の⽯を守る薬の論理パズルを解き、校⻑のアルバス‧ダンブルドアより50点を獲得する。...\n",
      "\n",
      "--- ドキュメント 7 ---\n",
      "ソース: data\\Wikipedia-ハリー・ポッター_(架空の人物).pdf\n",
      "文字数: 196\n",
      "内容: マグル界では⼀介の少年に過ぎない⽣活を送っていたが、魔法界では本⼈が⼾惑うほど重要な⼈物として、あまねく⼈々から知られている。⼀⼈前の魔法使いになるべく、同級⽣のロン‧ウィーズリーやハーマイオニー‧グレンジャーらとともに、ホグワーツにて学⽣⽣活を送りつつ、宿敵のヴォルデモートなどの闇の魔法使いたちによる数々の陰謀に⽴ち向かう冒険の⽇々を通して、たくましく成⻑していく姿が物語で描かれている。...\n",
      "\n",
      "--- ドキュメント 8 ---\n",
      "ソース: data\\Wikipedia-ハーマイオニー・グレンジャー.pdf\n",
      "文字数: 165\n",
      "内容: シリーズ全巻に登場する主要キャラクターのひとり。ホグワーツ魔法魔術学校グリフィンドール寮に所属し、主⼈公で同学年のハリー‧ポッター、もうひとりの同級⽣ロン‧ウィーズリーと親友になり、いつも三⼈で⾏動し、さまざまな問題を解決していく。マグル（魔法を使えない、普通の⼈間）の両親のもとに⽣まれた、いわゆる「マグル⽣まれ」の魔⼥である。...\n",
      "\n",
      "--- ドキュメント 9 ---\n",
      "ソース: data\\Wikipedia-ハリー・ポッター_(架空の人物).pdf\n",
      "文字数: 98\n",
      "内容: また両親を知る⼈物からは、外⾒は⽗の⽣き写しだが、アーモンド状の緑の⽬だけは⺟の⽬だと⾔われる。種族性別家族来歴1980年7⽉31⽇、ゴドリックの⾕に住む魔法族のポッター家に、⻑男として⽣まれる。...\n",
      "\n",
      "--- ドキュメント 10 ---\n",
      "ソース: data\\Wikipedia-ハリー・ポッター_(架空の人物).pdf\n",
      "文字数: 160\n",
      "内容: しかし、のちにシリウス本⼈から両親の死についての真実を明かされ、誤解が解ける。4年⽣ - ハリー‧ポッターと炎のゴブレット「三⼤魔法学校対抗試合」に、本来ならばありえない「4⼈⽬の代表者」として参加。ホグワーツ代表のセドリック‧ディゴリーと同時優勝を果たす。その後、ハリーとセドリッ\fクはヴォルデモートの復活を⽬撃する。...\n",
      "\n",
      "--- ドキュメント 11 ---\n",
      "ソース: data\\Wikipedia-ハリー・ポッター_(架空の人物).pdf\n",
      "文字数: 186\n",
      "内容: 1年⽣ - ハリー‧ポッターと賢者の⽯賢者の⽯の⼒による復活をもくろんだヴォルデモートから⽯を守る。2年⽣ - ハリー‧ポッターと秘密の部屋スリザリンの怪物を退治し、「秘密の部屋」事件を解決に導く。その功績から、ロン‧ウィーズリーとともにホグワーツ特別功労賞を贈られる。3年⽣ - ハリー‧ポッターとアズカバンの囚⼈アズカバンから脱獄したシリウス‧ブラックに命を狙われる。...\n",
      "\n",
      "--- ドキュメント 12 ---\n",
      "ソース: data\\Wikipedia-ロン・ウィーズリー.pdf\n",
      "文字数: 199\n",
      "内容: 普段は恐れている教授セブルス‧スネイプが授業中にハーマイオニーを知ったかぶりと形容すると猛然と抗議したり、ハーマイオニーが魔法界では常識はずれな屋敷しもべ妖精福祉振興協会の活動を始めると、⽣粋の魔法界育ちとしてその活動を奇妙であると感じながらもおとなしく協⼒する。このほか、ルビウス‧ハグリッド、ネビル‧ロングボトム、シェーマス‧フィネガン、ディーン‧トーマス、ルーナ‧ラブグッドなどと友⼈になる。...\n",
      "\n",
      "--- ドキュメント 13 ---\n",
      "ソース: data\\Wikipedia-ハリー・ポッター_(架空の人物).pdf\n",
      "文字数: 184\n",
      "内容: 組分け帽⼦にも「スリザリンに⼊れば君は⼤成する」と⾔われ、スリザリンに組分けされそうになるが[注 6]、ロンからスリザリン出⾝者は闇の魔法使いが多いことを聞き、嫌悪するドラコ‧マルフォイがスリザリンに⼊ったため、組分け帽⼦にスリザリンへの⼊寮拒否を希望し、グリフィンドール⽣となる。才能学問はあまり好まないため教科によってむらがあるが、ほとんどで成績は平均よりも良好。...\n",
      "\n",
      "--- ドキュメント 14 ---\n",
      "ソース: data\\Wikipedia-ロン・ウィーズリー.pdf\n",
      "文字数: 190\n",
      "内容: シリーズ全巻に登場する主要キャラクターのひとり。ホグワーツ魔法魔術学校グリフィンドール寮に所属し、主⼈公で同学年のハリー‧ポッター、もうひとりの同級⽣ハーマイオニー‧グレンジャーと親友になり、いつも三⼈で⾏動する。魔法界で純⾎家系の両親のもとに⽣まれ育った⽣粋の魔法使いという設定で、個性豊かな魔法使い⼀家の末息⼦として描かれ、ハリーや読者にとって魔法界を知るための情報源となる。...\n",
      "\n",
      "--- ドキュメント 15 ---\n",
      "ソース: data\\Wikipedia-ロン・ウィーズリー.pdf\n",
      "文字数: 170\n",
      "内容: 第5巻ではハリーへ不信感をあらわにする同級⽣たちに対し、ハリーに味⽅して抗弁し、終盤では魔法省へハリーが⾏くことは得策ではないと考えるも、⾃分の意思を曲げて⼀緒に乗り込む。貧しい家に住むが学校の休暇のたびにハリーを実家に招待して同じ部屋に泊まらせ、家族のいないハリーにとってかけがえのない温かいくつろぎの場所としてみずからの家庭を共有する。...\n",
      "\n",
      "--- ドキュメント 16 ---\n",
      "ソース: data\\Wikipedia-ロン・ウィーズリー.pdf\n",
      "文字数: 175\n",
      "内容: ハリーが魔法界で有名⼈であること⾃体は肯定的にとらえて羨望し、そのため第4巻『炎のゴブレット』では、ハリーが⾃分に黙って有名⼈の虚栄⼼から年齢制限を破り、ゴブレットに名前を⼊れたと誤解してなじり、⼀時的に絶交状態におちいる。しかしハーマイオニーを介して課題解決には協⼒し、その後ハリーが第1の課題をクリアしたとき、陰謀である事実を受け⼊れて和解する。...\n",
      "\n",
      "--- ドキュメント 17 ---\n",
      "ソース: data\\Wikipedia-ロン・ウィーズリー.pdf\n",
      "文字数: 170\n",
      "内容: その後、第3巻終盤でスキャバーズを失うが、シリウス‧ブラックからふくろうをもらい、ピッグウィジョンと名付けて飼うようになる。命名はジニーによるもの。クィディッチ⽤箒（ほうき）監督⽣に選ばれた祝いに、同系クラスとしては当時最新型のクリーンスイープ11号を買ってもらう。腕時計魔法界における成⼈年齢である17歳の誕⽣⽇に、両親から贈られる新品。...\n",
      "\n",
      "--- ドキュメント 18 ---\n",
      "ソース: data\\Wikipedia-ハリー・ポッター_(架空の人物).pdf\n",
      "文字数: 138\n",
      "内容: ⼀⽅で当のハリーは、⺟の⾎縁と同居すれば⺟の⾎の守りが継続するというダンブルドアの計らいで、伯⺟ペチュニア‧ダーズリーの家に預けられ、以降、17歳（魔法界の成⼈年齢）になるまで伯⺟⼀家と同居することになる（住所はサレー州リトル‧ウィンジング[注 3]、プリベット通り四番地）。...\n",
      "\n",
      "--- ドキュメント 19 ---\n",
      "ソース: data\\Wikipedia-ハーマイオニー・グレンジャー.pdf\n",
      "文字数: 129\n",
      "内容: 9. ^ J.K.ローリング ワールド‧ブックデイ‧オンライン‧チャット - ポッターマニア (http://www.pottermania.jp/info/event/log2004/JKROnlinechat0304JP.htm)10. ^ “⼩野賢章、...\n",
      "\n",
      "--- ドキュメント 20 ---\n",
      "ソース: data\\Wikipedia-ハリー・ポッター_(架空の人物).pdf\n",
      "文字数: 117\n",
      "内容: 詳細情報魔法族（半純⾎）男性ジェームズ‧ポッター（⽗）リリー‧ポッター（⺟）バーノン‧ダーズリー（伯⽗）ペチュニア‧ダーズリー（伯⺟）ダドリー‧ダーズリー（従兄）1981年10⽉31⽇[注 2]、ポッター家をヴォルデモートが襲撃する。...\n",
      "\n",
      "--- ドキュメント 21 ---\n",
      "ソース: data\\Wikipedia-魔法科高校の劣等生.pdf\n",
      "文字数: 182\n",
      "内容: ベルリン⼤学で教授を務めており、魔法の平和利⽤に取り組んでいる。政府の強い要請で⼗三使徒に名を連ねるが、戦略級魔法師の中では例外的に軍と距離を置いている。2097年4⽉3⽇に、ベルリン⼤学で発⽣した魔法師排斥派の学⽣と魔法師共存派の学⽣のデモをモニター越しに苦々しく⾒ていたところに、旧知のマクロードからイギリスへの亡命を打診されるが、何か裏があると判断して断る。...\n",
      "\n",
      "--- ドキュメント 22 ---\n",
      "ソース: data\\Wikipedia-ハーマイオニー・グレンジャー.pdf\n",
      "文字数: 153\n",
      "内容: 実際、勉学に対する努⼒は惜しまず、3年次には逆転時計を使⽤して、授業時間が重複する科⽬をすべて履修するといったこともする（⼼⾝の負担などから4年次以降は⼀部の科⽬の履修を⽌め、授業時間が重複することはなくなる）。そうした努⼒の結果、学年1位の成績を修め続け、ホグワーツの多くの教授からその才能を賞賛される。...\n",
      "\n",
      "--- ドキュメント 23 ---\n",
      "ソース: data\\Wikipedia-ロン・ウィーズリー.pdf\n",
      "文字数: 45\n",
      "内容: J‧K‧ローリングの⼩説『ハリー‧ポッター』シリーズ及びその派⽣作品に登場する架空の⼈物。...\n",
      "\n",
      "--- ドキュメント 24 ---\n",
      "ソース: data\\Wikipedia-八神はやて.pdf\n",
      "文字数: 108\n",
      "内容: 当時9歳[2]。誕⽣⽇は6⽉4⽇。魔導師ランクは、この時点での主要登場⼈物中最⾼位のSクラス。⼩学校は⾜の障害のため休学中。とある偶然からなのはの親友であるすずかと市⽴図書館で知り合い、意気投合して親しい友⼈となる。...\n",
      "\n",
      "--- ドキュメント 25 ---\n",
      "ソース: data\\Wikipedia-ハリー・ポッター_(架空の人物).pdf\n",
      "文字数: 103\n",
      "内容: ルビウス‧ハグリッド（ハリーの魔法界および魔法族においての最初の知⼈‧友⼈）ネビル‧ロングボトムシェーマス‧フィネガン（第5巻で⼀時仲違いするが、のちに和解）ディーン‧トーマスパーバティ‧パチル（第4巻で、...\n",
      "\n",
      "--- ドキュメント 26 ---\n",
      "ソース: data\\Wikipedia-ハリー・ポッター_(架空の人物).pdf\n",
      "文字数: 172\n",
      "内容: ヴォルデモートを倒したことで杖の本体を⼿に⼊れるが（忠誠⼼はそれ以前に得ていた）、ハリーはこの杖で⾃分の杖を直した後、ダンブルドアの墓に戻す（映画版では決戦後、杖をへし折って捨てる）。ペットヘドウィグハリーが初めてダイアゴン横丁を訪れた際に、ハグリッドにイーロップのふくろう百貨店で誕⽣⽇プレゼントとして買ってもらい、飼うようになる⽩ふくろう。...\n",
      "\n",
      "--- ドキュメント 27 ---\n",
      "ソース: data\\Wikipedia-ロン・ウィーズリー.pdf\n",
      "文字数: 184\n",
      "内容: 同年、⽗がガリオンくじに当選し、⼀家でエジプト旅⾏に⾏き、新しい杖も買ってもらう。1995年、ハーマイオニーとともに監督⽣に選ばれる。また寮対抗クィディッチ試合のグリフィンドール代表チームのキーパーになる。1996年、ハリー、ハーマイオニー、ネビル‧ロングボトム、ジニー‧ウィーズリー、ルーナ‧ラブグッドとともに魔法省神秘部に潜⼊。待ち構えていた死喰い⼈と戦闘になる。...\n",
      "\n",
      "--- ドキュメント 28 ---\n",
      "ソース: data\\Wikipedia-ハリー・ポッター_(架空の人物).pdf\n",
      "文字数: 175\n",
      "内容: 忍びの地図ムーニー、ワームテール、パッドフット、プロングズの4名の⼿で作られた、ホグワーツ城と学校の敷地全体の地図。3年時に、フレッドとジョージ‧ウィーズリーから贈られる。ブラック家の遺産シリウスの死後、その遺⾔により相続する。ブラック邸ロンドン市グリモールド‧プレイス12番地にある、ブラック家の屋敷。クリーチャーブラック家に仕える屋敷しもべ妖精。...\n",
      "\n",
      "--- ドキュメント 29 ---\n",
      "ソース: data\\Wikipedia-ハーマイオニー・グレンジャー.pdf\n",
      "文字数: 196\n",
      "内容: 屋敷しもべ妖精福祉振興協会を設⽴する。また同年、三⼤魔法学校対抗試合のためにホグワーツ校を訪れたビクトール‧クラムからクリスマス‧ダンスパーティーのパートナー（実質的な男⼥交際）を申し込まれ、彼がホグワーツを去るまで交際する。1995年、ロンとともにグリフィンドール寮の監督⽣に就任する。またハリーをリーダーとした「闇の魔術に対する防衛術」の学習組織を提案、ダンブルドア軍団の設⽴に成功する。...\n",
      "\n",
      "--- ドキュメント 30 ---\n",
      "ソース: data\\Wikipedia-ロン・ウィーズリー.pdf\n",
      "文字数: 146\n",
      "内容: ハリーとともに⾏動するためにたびたび⾃分や家族が重傷を負うが、そのことでハリーを恨んだり愚痴を⾔ったりすることはいっさいない。ハーマイオニーに対しては、⼊学当初はお節介な彼⼥にいい印象を持たないが、第1巻で彼⼥がトロールに襲われているところをハリーとともに助けたことがきっかけで、親しくなる。...\n"
     ]
    }
   ],
   "source": [
    "# 質問応答の結果を見やすくフォーマットする関数\n",
    "def format_rag_response(response):\n",
    "    print(\"質問:\", response[\"input\"])\n",
    "    print(\"\\n回答:\", response[\"answer\"])\n",
    "    print(\"\\n参照コンテキスト:\")\n",
    "    for i, doc in enumerate(response[\"context\"], 1):\n",
    "        print(f\"\\n--- ドキュメント {i} ---\")\n",
    "        print(f\"ソース: {doc.metadata['source']}\")\n",
    "        print(f\"文字数: {len(doc.page_content)}\")\n",
    "        print(f\"内容: {doc.page_content[:1000]}...\")  # 長すぎる場合は省略\n",
    "\n",
    "# 質問応答\n",
    "response = rag_chain_with_source.invoke({\"input\": query})\n",
    "format_rag_response(response)\n",
    "#print(response)\n"
   ]
  },
  {
   "cell_type": "markdown",
   "metadata": {},
   "source": [
    "## RAGASによる評価\n"
   ]
  },
  {
   "cell_type": "markdown",
   "metadata": {},
   "source": [
    "### 評価用 LLM と埋め込みモデルの準備"
   ]
  },
  {
   "cell_type": "code",
   "execution_count": 11,
   "metadata": {},
   "outputs": [],
   "source": [
    "from ragas.llms import LangchainLLMWrapper\n",
    "from ragas.embeddings import LangchainEmbeddingsWrapper\n",
    "from langchain_core.outputs import LLMResult\n",
    "def my_finished_parser(response: LLMResult) -> bool:\n",
    "    #print(response)\n",
    "    return True\n",
    "evaluator_llm = LangchainLLMWrapper(ChatOpenAI(model=\"gpt-4o-mini\", openai_api_key=os.getenv(\"OPENAI_API_KEY\")), is_finished_parser=my_finished_parser)\n",
    "#evaluator_llm = LangchainLLMWrapper(ChatOpenAI(model=\"gpt-4o-mini\", openai_api_key=os.getenv(\"OPENAI_API_KEY\")))\n",
    "evaluator_embeddings = LangchainEmbeddingsWrapper(OpenAIEmbeddings(model=\"text-embedding-3-small\", openai_api_key=os.getenv(\"OPENAI_API_KEY\")))"
   ]
  },
  {
   "cell_type": "markdown",
   "metadata": {},
   "source": [
    "### 質問・正解・コンテキスト・回答の準備"
   ]
  },
  {
   "cell_type": "code",
   "execution_count": 12,
   "metadata": {},
   "outputs": [
    {
     "name": "stdout",
     "output_type": "stream",
     "text": [
      "質問: 高町なのはがユーノから譲り受けたものは何ですか？\n",
      "回答: インテリジェントデバイス「レイジングハート」です。\n",
      "\n",
      "質問: 高町なのはには兄弟姉妹はいますか？名前はわかりますか？\n",
      "回答: 高町なのはには兄と姉がいます。兄の名前は恭也、姉の名前は美由希です。\n",
      "\n",
      "質問: 高町なのはは、フェイトのことをどのように呼んでいますか？\n",
      "回答: 高町なのはは、フェイトのことを「フェイトちゃん」と呼んでいます。\n",
      "\n",
      "質問: 四葉家の次期当主候補は誰ですか？\n",
      "回答: 四葉家の次期当主候補は深雪です。\n",
      "\n",
      "質問: 時空管理局のアースラの艦長は誰ですか？\n",
      "回答: リンディ・ハラオウンです。\n",
      "\n",
      "質問: ユーノ・スクライアは、普段どのような動物の姿で過ごしていますか？\n",
      "回答: ユーノ・スクライアは、普段フェレットに似た動物の姿で過ごしています。\n",
      "\n",
      "質問: フェイト・テスタロッサのデバイス（魔法の杖）の名前は？\n",
      "回答: フェイト・テスタロッサのデバイス（魔法の杖）の名前は「バルディッシュ」です。\n",
      "\n",
      "質問: 高町なのはが小学生のときに通っていた学校は？\n",
      "回答: 高町なのはが小学生のときに通っていた学校は、私立聖祥大附属小学校です。\n",
      "\n",
      "質問: 高町なのはとユーノが回収しようとしているものは何？？\n",
      "回答: ジュエルシードです。\n",
      "\n",
      "質問: 死の秘宝のひとつで、ダウンブルドアからハリーに渡されたものは何ですか？\n",
      "回答: 透明マントです。\n",
      "\n",
      "質問: 魔法少女リリカルなのはの主人公は？\n",
      "回答: 魔法少女リリカルなのはの主人公は、高町なのはです。\n",
      "\n",
      "質問: 魔法少女まどか☆マギカの主人公の名前は？\n",
      "回答: 鹿目まどかです。\n",
      "\n",
      "質問: 鹿目まどかの声は誰が担当していますか？\n",
      "回答: 鹿目まどかの声は悠木碧が担当しています。\n",
      "\n",
      "質問: 魔法少女まどか☆マギカの映画「[新編]反逆の物語」の政党続編となる新作映画は？\n",
      "回答: 『劇場版 魔法少女まどか☆マギカ〈ワルプルギスの廻天〉』です。\n",
      "\n",
      "質問: リリカルなのはで、自立判断し英語でしゃべるパートナーとして描かれているものは何ですか？\n",
      "回答: 魔法の杖です。\n",
      "\n",
      "質問: 聖王のゆりかごとは何ですか、どのくらいの大きさですか？\n",
      "回答: 聖王のゆりかごは、古代ベルカの遺産の一つで、その正体は旧暦において一度は世界を滅ぼしたとされる強大な質量兵器です。全長数kmの巨大飛行戦艦です。\n",
      "\n",
      "質問: スターライトブレイカーは誰のどのような魔法ですか？\n",
      "回答: スターライトブレイカーは、高町なのはの魔法であり、彼女の最大最強の切り札で、代名詞ともなっている魔法です。なのは本人の魔力に加えて、希少スキル「魔力収束」を用いて戦場に漂う残留魔力を呼び集め、特大の一撃を放つ集束砲撃魔法です。\n",
      "\n",
      "質問: ニュータイプアニメアワード2011では女性キャラクター賞で1位を獲得したキャラクターは？\n",
      "回答: 暁美ほむらがニュータイプアニメアワード2011で女性キャラクター賞で1位を獲得しました。\n",
      "\n",
      "質問: レリックの発掘と同時に現れた謎の機械兵器群は何ですか？\n",
      "回答: ガジェット‧ドローンです。\n",
      "\n",
      "質問: ハグリッドがホグワーツへの入学案内書を持ってきたのはいつですか？それはどのような日でしたか？\n",
      "回答: 1991年7月31日、ハリーの11歳の誕生日に、ルビウス・ハグリッドがホグワーツ魔法魔術学校への入学案内書を持ってきました。\n",
      "\n"
     ]
    }
   ],
   "source": [
    "# 質問\n",
    "question = [\n",
    "    \"高町なのはがユーノから譲り受けたものは何ですか？\",\n",
    "    \"高町なのはには兄弟姉妹はいますか？名前はわかりますか？\",\n",
    "    \"高町なのはは、フェイトのことをどのように呼んでいますか？\",\n",
    "    \"四葉家の次期当主候補は誰ですか？\",\n",
    "    \"時空管理局のアースラの艦長は誰ですか？\",\n",
    "    \"ユーノ・スクライアは、普段どのような動物の姿で過ごしていますか？\",\n",
    "    \"フェイト・テスタロッサのデバイス（魔法の杖）の名前は？\",\n",
    "    \"高町なのはが小学生のときに通っていた学校は？\",\n",
    "    \"高町なのはとユーノが回収しようとしているものは何？？\",\n",
    "    \"死の秘宝のひとつで、ダウンブルドアからハリーに渡されたものは何ですか？\",\n",
    "    \"魔法少女リリカルなのはの主人公は？\",\n",
    "    \"魔法少女まどか☆マギカの主人公の名前は？\",\n",
    "    \"鹿目まどかの声は誰が担当していますか？\",\n",
    "    \"魔法少女まどか☆マギカの映画「[新編]反逆の物語」の政党続編となる新作映画は？\",\n",
    "    \"リリカルなのはで、自立判断し英語でしゃべるパートナーとして描かれているものは何ですか？\",\n",
    "    \"聖王のゆりかごとは何ですか、どのくらいの大きさですか？\",\n",
    "    \"スターライトブレイカーは誰のどのような魔法ですか？\",\n",
    "    \"ニュータイプアニメアワード2011では女性キャラクター賞で1位を獲得したキャラクターは？\",\n",
    "    \"レリックの発掘と同時に現れた謎の機械兵器群は何ですか？\",\n",
    "    \"ハグリッドがホグワーツへの入学案内書を持ってきたのはいつですか？それはどのような日でしたか？\"\n",
    "]\n",
    "\n",
    "# 正解\n",
    "ground_truth = [\n",
    "    \"高町なのはがユーノから譲り受けたものはインテリジェントデバイスのレイジングハートです\",\n",
    "    \"高町なのはには、兄の恭也と姉の美由希がいます。\",\n",
    "    \"高町なのはは、フェイトのことを公の場では「フェイト隊長」と呼ぶこともあるが、プライベートでは「フェイトちゃん」と呼んでいます。\",\n",
    "    \"四葉家の次期当主候補は司波深雪です。\",\n",
    "    \"時空管理局のアースラの艦長は、リンディ・ハラオウンです。\",\n",
    "    \"ユーノ・スクライアは、普段フェレットのような動物の姿で過ごしています。\",\n",
    "    \"フェイト・テスタロッサののデバイス（魔法の杖）の名前はバルディッシュです。\",\n",
    "    \"高町なのはが小学生のときに通っていた学校は、私立聖祥大附属小学校です。\",\n",
    "    \"高町なのはとユーノが回収しようとしているものはジュエルシードです。\",\n",
    "    \"死の秘宝のひとつで、ダウンブルドアからハリーに渡されたものは透明マントです。\",\n",
    "    \"魔法少女リリカルなのはの主人公は、高町なのはです。\",\n",
    "    \"魔法少女まどか☆マギカの主人公の名前は、鹿目まどかです。\",\n",
    "    \"鹿目まどかの声は、悠木碧（ゆうき あおい）が担当しています。\",\n",
    "    \"魔法少女まどか☆マギカの映画「[新編]反逆の物語」の正統続編となる新作映画は『劇場版 魔法少女まどか☆マギカ〈ワルプルギスの廻天〉』です。\",\n",
    "    \"魔法少女リリカルなのはで、自立判断し英語でしゃべるパートナーとして描かれているものは、「魔法の杖」です。\",\n",
    "    \"聖王のゆりかごとは、古代ベルカの遺産の一つ。その正体は旧暦において一度は世界を滅ぼしたとされる強大な質量兵器で、全長数kmの巨大飛行戦艦です。\",\n",
    "    \"スターライトブレイカーは、なのは最大最強の切り札であり、彼女の代名詞ともなっている魔法。なのは本人（+カートリッジ）の魔力に加えて、なのは個人の希少スキル「魔力収束」をもって戦場に漂う残留魔力をも呼び集めて特大の一撃を放つ集束砲撃魔法です。\",\n",
    "    \"ニュータイプアニメアワード2011では女性キャラクター賞で1位を獲得したキャラクターは、暁美ほむらです。\",\n",
    "    \"レリックの発掘と同時に現れた謎の機械兵器群は、ガジェット・ドローンです。\",\n",
    "    \"ハグリッドがホグワーツへの入学案内書を持ってきたのは、ハリーの11歳の誕生日の1991年7月31日です。\"\n",
    "]\n",
    "\n",
    "# コンテキストと回答の生成\n",
    "contexts = []\n",
    "answer = []\n",
    "for q in question:\n",
    "    print(\"質問:\", q)\n",
    "    response = rag_chain_with_source.invoke({\"input\": q})\n",
    "    contexts.append([x.page_content for x in response[\"context\"]])\n",
    "    print(f\"回答: {response['answer']}\\n\")\n",
    "    answer.append(response[\"answer\"])\n",
    "\n",
    "#print(\"contexts:\", contexts)\n",
    "#print(\"answer:\", answer)"
   ]
  },
  {
   "cell_type": "markdown",
   "metadata": {},
   "source": [
    "### データセットの準備"
   ]
  },
  {
   "cell_type": "code",
   "execution_count": 13,
   "metadata": {},
   "outputs": [],
   "source": [
    "from datasets import Dataset \n",
    "\n",
    "# データセットの準備\n",
    "ds = Dataset.from_dict(\n",
    "    {\n",
    "        \"question\": question,\n",
    "        \"answer\": answer,\n",
    "        \"contexts\": contexts,\n",
    "        \"ground_truth\": ground_truth,\n",
    "    }\n",
    ")"
   ]
  },
  {
   "cell_type": "code",
   "execution_count": 14,
   "metadata": {},
   "outputs": [
    {
     "name": "stdout",
     "output_type": "stream",
     "text": [
      "データを log/rag_eval_chunk200_top30_similarity.json に保存しました。\n"
     ]
    }
   ],
   "source": [
    "import os\n",
    "import json\n",
    "from datetime import datetime\n",
    "import glob\n",
    "\n",
    "# logディレクトリの作成（存在しない場合）\n",
    "os.makedirs(\"log\", exist_ok=True)\n",
    "\n",
    "# 基本ファイル名の作成\n",
    "base_filename = f\"rag_eval_chunk{chunk_size}_top{top_k}_{search_type}\"\n",
    "\n",
    "# 既存ファイルをチェックして番号を決定\n",
    "existing_files = glob.glob(f\"log/{base_filename}*.json\")\n",
    "file_num = len(existing_files)\n",
    "filename = f\"log/{base_filename}_{file_num}.json\" if file_num > 0 else f\"log/{base_filename}.json\"\n",
    "\n",
    "# 保存するデータの準備\n",
    "save_data = {\n",
    "    \"metadata\": {\n",
    "        \"Collection\": collection_name,\n",
    "        \"model\": model,\n",
    "        \"temperature\": temperature,\n",
    "        \"embedding_model\": embedding_model,\n",
    "        \"chunk_size\": chunk_size,\n",
    "        \"search_ef\": search_ef,\n",
    "        \"top_k\": top_k,\n",
    "        \"search_type\": search_type,\n",
    "        \"score_threshold\": score_threshold,\n",
    "        \"fetch_k\": fetch_k,\n",
    "        \"lambda_mult\": lambda_mult,\n",
    "        \"timestamp\": datetime.now().isoformat()\n",
    "    },\n",
    "    \"evaluation_data\": {\n",
    "        \"questions\": question,\n",
    "        \"answers\": answer,\n",
    "        \"contexts\": contexts,\n",
    "        \"ground_truths\": ground_truth\n",
    "    }\n",
    "}\n",
    "\n",
    "# JSONファイルとして保存\n",
    "with open(filename, \"w\", encoding=\"utf-8-sig\") as f:\n",
    "    json.dump(save_data, f, ensure_ascii=False, indent=2)\n",
    "\n",
    "print(f\"データを {filename} に保存しました。\")"
   ]
  },
  {
   "cell_type": "code",
   "execution_count": 15,
   "metadata": {},
   "outputs": [
    {
     "data": {
      "application/vnd.jupyter.widget-view+json": {
       "model_id": "143dc3ed30e54b9894681c008954fcc5",
       "version_major": 2,
       "version_minor": 0
      },
      "text/plain": [
       "Evaluating:   0%|          | 0/80 [00:00<?, ?it/s]"
      ]
     },
     "metadata": {},
     "output_type": "display_data"
    },
    {
     "name": "stdout",
     "output_type": "stream",
     "text": [
      "{'faithfulness': 0.8500, 'answer_relevancy': 0.4156, 'context_precision': 0.5187, 'context_recall': 0.9500}\n"
     ]
    }
   ],
   "source": [
    "from ragas import evaluate\n",
    "from ragas.metrics import Faithfulness, AnswerRelevancy, ContextPrecision, ContextRecall\n",
    "\n",
    "metrics = [\n",
    "    Faithfulness(llm=evaluator_llm),\n",
    "    AnswerRelevancy(llm=evaluator_llm, embeddings=evaluator_embeddings),\n",
    "    ContextPrecision(llm=evaluator_llm),\n",
    "    ContextRecall(llm=evaluator_llm)\n",
    "]\n",
    "\n",
    "# 評価の実行\n",
    "result = evaluate(\n",
    "    dataset=ds,\n",
    "    metrics=metrics\n",
    ")\n",
    "print(result)"
   ]
  },
  {
   "cell_type": "code",
   "execution_count": 16,
   "metadata": {},
   "outputs": [
    {
     "name": "stdout",
     "output_type": "stream",
     "text": [
      "評価結果を log/rag_eval_chunk200_top30_similarity_metrics.csv に保存しました。\n"
     ]
    }
   ],
   "source": [
    "import matplotlib.pyplot as plt\n",
    "import math\n",
    "import csv\n",
    "\n",
    "plt.rcParams['font.family'] = 'MS Gothic'\n",
    "\n",
    "# 結果データの準備\n",
    "Faithfulness_avr = math.floor(sum(result['faithfulness'])/len(result['faithfulness']) * 1000) / 1000\n",
    "AnswerRelevancy_avr = math.floor(sum(result['answer_relevancy'])/len(result['answer_relevancy']) * 1000) / 1000\n",
    "ContextPrecision_avr = math.floor(sum(result['context_precision'])/len(result['context_precision']) * 1000) / 1000\n",
    "context_recall_avr = math.floor(sum(result['context_recall'])/len(result['context_recall']) * 1000) / 1000\n",
    "\n",
    "# ファイル名の作成\n",
    "csv_filename = f\"log/{base_filename}_{file_num}_metrics.csv\" if file_num > 0 else f\"log/{base_filename}_metrics.csv\"\n",
    "\n",
    "# CSVファイルに書き出し\n",
    "with open(csv_filename, 'w', newline='', encoding='utf-8-sig') as f:\n",
    "    writer = csv.writer(f)\n",
    "    \n",
    "    # ヘッダーの書き出し\n",
    "    writer.writerow(['Question', 'Answer', 'Ground Truth', 'Faithfulness', 'Answer Relevancy', 'Context Precision', 'Context Recall'])\n",
    "    \n",
    "    # 各テストケースの結果を書き出し\n",
    "    for i, (q, a, gt) in enumerate(zip(question, answer, ground_truth)):\n",
    "        writer.writerow([\n",
    "            q,\n",
    "            a,\n",
    "            gt,\n",
    "            result['faithfulness'][i],\n",
    "            result['answer_relevancy'][i],\n",
    "            result['context_precision'][i],\n",
    "            result['context_recall'][i]\n",
    "        ])\n",
    "    \n",
    "    # 平均値の書き出し\n",
    "    writer.writerow([\n",
    "        'Average',\n",
    "        '',  # Answer列は空欄\n",
    "        '',  # Ground Truth列は空欄\n",
    "        Faithfulness_avr,\n",
    "        AnswerRelevancy_avr,\n",
    "        ContextPrecision_avr,\n",
    "        context_recall_avr\n",
    "    ])\n",
    "\n",
    "print(f\"評価結果を {csv_filename} に保存しました。\")"
   ]
  },
  {
   "cell_type": "code",
   "execution_count": 17,
   "metadata": {},
   "outputs": [
    {
     "data": {
      "image/png": "[encoded data removed]",
      "text/plain": [
       "<Figure size 1000x600 with 1 Axes>"
      ]
     },
     "metadata": {},
     "output_type": "display_data"
    },
    {
     "ename": "",
     "evalue": "",
     "output_type": "error",
     "traceback": [
      "\u001b[1;31m現在のセルまたは前のセルでコードを実行中に、カーネル (Kernel) がクラッシュしました。\n",
      "\u001b[1;31mエラーの原因を特定するには、セル内のコードを確認してください。\n",
      "\u001b[1;31m詳細については<a href='https://aka.ms/vscodeJupyterKernelCrash'>こちら</a>をクリックします。\n",
      "\u001b[1;31m詳細については、Jupyter <a href='command:jupyter.viewOutput'>ログ</a> を参照してください。"
     ]
    }
   ],
   "source": [
    "metrics_data = {\n",
    "    'Faithfulness': Faithfulness_avr,\n",
    "    'Answer Relevancy': AnswerRelevancy_avr,\n",
    "    'Context Precision': ContextPrecision_avr,\n",
    "    'Context Recall': context_recall_avr\n",
    "}\n",
    "\n",
    "# プロットの作成\n",
    "plt.figure(figsize=(10, 6))\n",
    "bars = plt.bar(list(metrics_data.keys()), list(metrics_data.values()))\n",
    "\n",
    "# グラフの装飾\n",
    "plt.title('RAGASによる評価結果', pad=20)\n",
    "plt.ylim(0, 1.0)\n",
    "plt.xticks(rotation=45, ha='right')\n",
    "plt.grid(axis='y', linestyle='--', alpha=0.7)\n",
    "\n",
    "# 数値を棒グラフの上に表示\n",
    "for bar in bars:\n",
    "    height = bar.get_height()\n",
    "    plt.text(bar.get_x() + bar.get_width()/2., height,\n",
    "             f'{height:.3f}',\n",
    "             ha='center', va='bottom')\n",
    "\n",
    "plt.tight_layout()\n",
    "plt.savefig(f\"log/{base_filename}_{file_num}_metrics.png\" if file_num > 0 else f\"log/{base_filename}_metrics.png\", \n",
    "            dpi=300,  # 解像度\n",
    "            bbox_inches='tight'  # 余白を自動調整\n",
    "           )\n",
    "plt.show()"
   ]
  },
  {
   "cell_type": "code",
   "execution_count": null,
   "metadata": {},
   "outputs": [],
   "source": []
  }
 ],
 "metadata": {
  "kernelspec": {
   "display_name": ".venv",
   "language": "python",
   "name": "python3"
  },
  "language_info": {
   "codemirror_mode": {
    "name": "ipython",
    "version": 3
   },
   "file_extension": ".py",
   "mimetype": "text/x-python",
   "name": "python",
   "nbconvert_exporter": "python",
   "pygments_lexer": "ipython3",
   "version": "3.12.1"
  }
 },
 "nbformat": 4,
 "nbformat_minor": 2
}
