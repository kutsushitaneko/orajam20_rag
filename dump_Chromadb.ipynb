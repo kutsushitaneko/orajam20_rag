{
 "cells": [
  {
   "cell_type": "code",
   "execution_count": 1,
   "metadata": {},
   "outputs": [],
   "source": [
    "import os\n",
    "import csv\n",
    "from dotenv import load_dotenv, find_dotenv\n",
    "\n",
    "_ = load_dotenv(find_dotenv())"
   ]
  },
  {
   "cell_type": "code",
   "execution_count": 2,
   "metadata": {},
   "outputs": [],
   "source": [
    "chunk_size = 200\n",
    "collection_name = f\"mycollection_{chunk_size}\"\n",
    "embedding_model = \"text-embedding-3-large\"\n",
    "temperature = 0"
   ]
  },
  {
   "cell_type": "code",
   "execution_count": 3,
   "metadata": {},
   "outputs": [],
   "source": [
    "from langchain_openai import OpenAIEmbeddings\n",
    "\n",
    "# 埋め込みモデルの準備\n",
    "embeddings = OpenAIEmbeddings(model=embedding_model)"
   ]
  },
  {
   "cell_type": "code",
   "execution_count": 4,
   "metadata": {},
   "outputs": [
    {
     "name": "stdout",
     "output_type": "stream",
     "text": [
      "現在のコレクション一覧:\n",
      "- mycollection_500\n",
      "- mycollection_100\n",
      "- mycollection_1000\n",
      "- mycollection_200\n",
      "コレクション mycollection_200 のインスタンスを作成しました\n"
     ]
    }
   ],
   "source": [
    "import chromadb\n",
    "from langchain_chroma import Chroma\n",
    "\n",
    "\n",
    "# Chromaクライアントを初期化\n",
    "try:\n",
    "    persistent_client = chromadb.PersistentClient(path=\"./chroma_db\")\n",
    "\n",
    "    collections = persistent_client.list_collections()\n",
    "    print(\"現在のコレクション一覧:\")\n",
    "    for collection in collections:\n",
    "        print(f\"- {collection.name}\")\n",
    "\n",
    "    vector_store = Chroma(\n",
    "        client=persistent_client,\n",
    "        collection_name=collection_name,\n",
    "        embedding_function=embeddings,\n",
    "        collection_metadata={\"hnsw:space\": \"ip\"} \n",
    "    )\n",
    "    print(f\"コレクション {collection_name} のインスタンスを作成しました\")\n",
    "\n",
    "except Exception as e:\n",
    "    print(f\"Chromaデータベースの操作中にエラーが発生しました: {str(e)}\")"
   ]
  },
  {
   "cell_type": "code",
   "execution_count": 5,
   "metadata": {},
   "outputs": [
    {
     "name": "stdout",
     "output_type": "stream",
     "text": [
      "\n",
      "--- ドキュメント 1 ---\n",
      "ID: 52087784-a618-4da1-9c3b-b0efc470ce32 ソース: data\\Wikipedia-ハリー・ポッター_(架空の人物).pdf 文字数: 198\n",
      "ハリー‧ポッター (架空の⼈物)出典: フリー百科事典『ウィキペディア（Wikipedia）』ハリー‧ポッターシリーズ > ハリー‧ポッターシリーズの登場⼈物⼀覧 > ハリー‧ポッター (架空の⼈物)ハリー‧ジェームズ‧ポッター（英: Harry JamesPotter）は、J‧K‧ローリングの⼩説『ハリー‧ポッター』シリーズおよび、その派⽣作品に登場する架空の⼈物であり、同シリーズの主⼈公。\n",
      "\n",
      "--- ドキュメント 2 ---\n",
      "ID: 74fa4331-e2fe-490b-b966-ea50c4f54502 ソース: data\\Wikipedia-ハリー・ポッター_(架空の人物).pdf 文字数: 169\n",
      "ホグワーツ魔法魔術学校グリフィンドール寮の男⼦⽣徒となる。孤児として⺟親の親類の伯⺟夫婦の家で不遇な暮らしをして育った。11歳を迎える年のある⽇突然、ホグワーツから⼊学許可証が届いたのをきっかけに、亡くなった両親が魔法使いであったこと、そして出⽣時に下された予⾔により、闇の魔法使いヴォルデモートを倒す宿命を⾃分が負っていると告げられる。\n",
      "\n",
      "--- ドキュメント 3 ---\n",
      "ID: 0bb78ff4-cf20-406b-a458-09bf48e54c28 ソース: data\\Wikipedia-ハリー・ポッター_(架空の人物).pdf 文字数: 196\n",
      "マグル界では⼀介の少年に過ぎない⽣活を送っていたが、魔法界では本⼈が⼾惑うほど重要な⼈物として、あまねく⼈々から知られている。⼀⼈前の魔法使いになるべく、同級⽣のロン‧ウィーズリーやハーマイオニー‧グレンジャーらとともに、ホグワーツにて学⽣⽣活を送りつつ、宿敵のヴォルデモートなどの闇の魔法使いたちによる数々の陰謀に⽴ち向かう冒険の⽇々を通して、たくましく成⻑していく姿が物語で描かれている。\n",
      "\n",
      "--- ドキュメント 4 ---\n",
      "ID: 5b82b2cb-09e9-420b-9469-97fbdcbca1c0 ソース: data\\Wikipedia-ハリー・ポッター_(架空の人物).pdf 文字数: 153\n",
      "⼈物名前‧外⾒魔 法 界 で は 「 ⽣ き 残 っ た 男 の ⼦   (The  boy  wholived) 」と呼ばれる。髪の⽑は黒い癖⽑で、瞳は明るい緑⾊。⼩顔で細⾯で、近視のため丸眼鏡を着⽤。同年代に⽐べ⼩柄で痩せているが、第6巻『謎のプリンス』では前巻と⽐べて⾝⻑がかなり伸びたとされている。\n",
      "\n",
      "--- ドキュメント 5 ---\n",
      "ID: ff2f3344-ee27-4770-9365-9119a598e9d3 ソース: data\\Wikipedia-ハリー・ポッター_(架空の人物).pdf 文字数: 92\n",
      "額にはヴォルデモートの強⼒な呪いによってつけハリー‧ポッターHarry Potter『ハリー‧ポッター』シリーズのキャラクターハリー‧ポッターを演じるダニエル‧ラドクリフ（2009年、\n"
     ]
    }
   ],
   "source": [
    "result = vector_store.get()\n",
    "\n",
    "# 結果の表示\n",
    "for i in range(min(5, len(result[\"ids\"]))):\n",
    "    print(f\"\\n--- ドキュメント {i+1} ---\")\n",
    "    print(f\"ID: {result['ids'][i]} ソース: {result['metadatas'][i]['source']} 文字数: {len(result['documents'][i])}\")\n",
    "    print(f\"{result['documents'][i]}\")"
   ]
  },
  {
   "cell_type": "code",
   "execution_count": 6,
   "metadata": {},
   "outputs": [
    {
     "name": "stdout",
     "output_type": "stream",
     "text": [
      "データを ./tmp/mycollection_200.csv に保存しました。\n",
      "合計 3378 行のデータを書き込みました。\n"
     ]
    }
   ],
   "source": [
    "# ./tmp/ ディレクトリが存在しない場合は作成\n",
    "os.makedirs('./tmp', exist_ok=True)\n",
    "\n",
    "# CSVファイルに書き込み\n",
    "csv_path = f'./tmp/{collection_name}.csv'\n",
    "row_count = 0\n",
    "\n",
    "with open(csv_path, 'w', newline='', encoding='utf-8') as f:\n",
    "    writer = csv.writer(f)\n",
    "    # ヘッダーを書き込み\n",
    "    writer.writerow(['ID', 'ソース', '文字数', 'コンテンツ'])\n",
    "    \n",
    "    # データを書き込み\n",
    "    for i in range(len(result[\"ids\"])):\n",
    "        writer.writerow([\n",
    "            result['ids'][i],\n",
    "            result['metadatas'][i]['source'],\n",
    "            len(result['documents'][i]),\n",
    "            result['documents'][i]\n",
    "        ])\n",
    "        row_count += 1\n",
    "\n",
    "print(f\"データを {csv_path} に保存しました。\")\n",
    "print(f\"合計 {row_count} 行のデータを書き込みました。\")"
   ]
  },
  {
   "cell_type": "code",
   "execution_count": null,
   "metadata": {},
   "outputs": [],
   "source": []
  }
 ],
 "metadata": {
  "kernelspec": {
   "display_name": ".venv",
   "language": "python",
   "name": "python3"
  },
  "language_info": {
   "codemirror_mode": {
    "name": "ipython",
    "version": 3
   },
   "file_extension": ".py",
   "mimetype": "text/x-python",
   "name": "python",
   "nbconvert_exporter": "python",
   "pygments_lexer": "ipython3",
   "version": "3.11.9"
  }
 },
 "nbformat": 4,
 "nbformat_minor": 2
}
